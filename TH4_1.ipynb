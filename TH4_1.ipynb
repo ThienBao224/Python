{
  "nbformat": 4,
  "nbformat_minor": 0,
  "metadata": {
    "colab": {
      "provenance": [],
      "mount_file_id": "1cvv-wuG9F0i1zWO5gJi9b4pyTkGGk2gM",
      "authorship_tag": "ABX9TyPD2DeBwCn85hgkdZ8h8Mwf",
      "include_colab_link": true
    },
    "kernelspec": {
      "name": "python3",
      "display_name": "Python 3"
    },
    "language_info": {
      "name": "python"
    }
  },
  "cells": [
    {
      "cell_type": "markdown",
      "metadata": {
        "id": "view-in-github",
        "colab_type": "text"
      },
      "source": [
        "<a href=\"https://colab.research.google.com/github/ThienBao224/Python/blob/main/TH4_1.ipynb\" target=\"_parent\"><img src=\"https://colab.research.google.com/assets/colab-badge.svg\" alt=\"Open In Colab\"/></a>"
      ]
    },
    {
      "cell_type": "markdown",
      "source": [
        "# Homework 4_1: LIST"
      ],
      "metadata": {
        "id": "lT5hgN3RX_A0"
      }
    },
    {
      "cell_type": "markdown",
      "source": [
        "## A"
      ],
      "metadata": {
        "id": "4oo9p7rHYA6j"
      }
    },
    {
      "cell_type": "markdown",
      "source": [
        "### 1. L = [2 ,4, 9, 3, 5]. Cho biết kết quả các câu lệnh sau:"
      ],
      "metadata": {
        "id": "BwFiGP3XYCt7"
      }
    },
    {
      "cell_type": "markdown",
      "source": [
        "a. L[2]\n",
        "\n",
        "b. L[-1]\n",
        "\n",
        "c. len(L)\n",
        "\n",
        "d. L[0:2]\n",
        "\n",
        "e. 0 in L\n",
        "\n",
        "f. L + [24, 1, 4]\n",
        "\n",
        "g. tuple(L)\n"
      ],
      "metadata": {
        "id": "Dz16oxEOYIVU"
      }
    },
    {
      "cell_type": "code",
      "execution_count": null,
      "metadata": {
        "colab": {
          "base_uri": "https://localhost:8080/"
        },
        "id": "X-mLUxq8XfqP",
        "outputId": "a0f18f2e-3ada-4b97-a079-0fcb6f5b0d86"
      },
      "outputs": [
        {
          "output_type": "stream",
          "name": "stdout",
          "text": [
            "a. 9\n",
            "b. 5\n",
            "c. 5\n",
            "d. [2, 4]\n",
            "e. False\n",
            "f. [2, 4, 9, 3, 5, 24, 1, 4]\n",
            "g. (2, 4, 9, 3, 5)\n"
          ]
        }
      ],
      "source": [
        "L = [2, 4, 9, 3, 5]\n",
        "\n",
        "#a Lấy vị trí thứ 2(bắt đầu từ 0)\n",
        "print(\"a.\", L[2])\n",
        "\n",
        "#b Lấy vị trí cuối\n",
        "print(\"b.\", L[-1])\n",
        "\n",
        "#c Chiều dài List\n",
        "print(\"c.\", len(L))\n",
        "\n",
        "#d Cắt từ 0 đến 1\n",
        "print(\"d.\", L[0:2])\n",
        "\n",
        "#e Ktra xem 0 có trong L không\n",
        "print(\"e.\", 0 in L)\n",
        "\n",
        "#f Cộng list\n",
        "print(\"f.\", L + [24, 1, 4])\n",
        "\n",
        "#g Chuyển thành tuple\n",
        "print(\"g.\", tuple(L))"
      ]
    },
    {
      "cell_type": "markdown",
      "source": [
        "### 2. L = [2 ,4, 9, 3, 5]. Viết các câu lệnh thực hiện các yêu cầu sau đây:"
      ],
      "metadata": {
        "id": "zpPDDQvbY1sM"
      }
    },
    {
      "cell_type": "markdown",
      "source": [
        "a. Thay thế phần tử đầu tiên thành số âm tương ứng.\n",
        "\n",
        "b. Thêm 20 vào cuối danh sách.\n",
        "\n",
        "c. Thêm số 0 vào vị trí thứ 3 trong danh sách.\n",
        "\n",
        "d. Xóa phần tử tại vị trí số 4 trong danh sách.\n",
        "\n",
        "e. Thêm list [0,0,0] vào sau danh sách trên.\n",
        "\n",
        "f. Sắp xếp danh sách giảm dần."
      ],
      "metadata": {
        "id": "9glHrZulY4vK"
      }
    },
    {
      "cell_type": "code",
      "source": [
        "L = [2, 4, 9, 3, 5]\n",
        "\n",
        "# a. Thay thế phần tử đầu tiên thành số âm tương ứng\n",
        "L[0] = -L[0]\n",
        "print(\"a.\", L)\n",
        "\n",
        "# b. Thêm 20 vào cuối danh sách\n",
        "L.append(20)\n",
        "print(\"b.\", L)\n",
        "\n",
        "# c. Thêm số 0 vào vị trí thứ 3 (chỉ số 2)\n",
        "L.insert(2, 0)\n",
        "print(\"c.\", L)\n",
        "\n",
        "# d. Xóa phần tử tại vị trí số 4 (chỉ số 3)\n",
        "del L[4]\n",
        "print(\"d.\", L)\n",
        "\n",
        "# e. Thêm list [0,0,0] vào sau danh sách\n",
        "L.extend([0,0,0])\n",
        "print(\"e.\", L)\n",
        "\n",
        "# f. Sắp xếp danh sách giảm dần\n",
        "L.sort(reverse=True)\n",
        "print(\"f.\", L)\n"
      ],
      "metadata": {
        "colab": {
          "base_uri": "https://localhost:8080/"
        },
        "id": "SHkFRONaY2AL",
        "outputId": "63fd458e-2dfe-4731-ed93-6596a44389b3"
      },
      "execution_count": null,
      "outputs": [
        {
          "output_type": "stream",
          "name": "stdout",
          "text": [
            "a. [-2, 4, 9, 3, 5]\n",
            "b. [-2, 4, 9, 3, 5, 20]\n",
            "c. [-2, 4, 0, 9, 3, 5, 20]\n",
            "d. [-2, 4, 0, 9, 5, 20]\n",
            "e. [-2, 4, 0, 9, 5, 20, 0, 0, 0]\n",
            "f. [20, 9, 5, 4, 0, 0, 0, 0, -2]\n"
          ]
        }
      ]
    },
    {
      "cell_type": "markdown",
      "source": [
        "## B"
      ],
      "metadata": {
        "id": "i46Y0pyUaQFC"
      }
    },
    {
      "cell_type": "markdown",
      "source": [
        "### 1. Cho một danh sách bao gồm các chuỗi chứa các chữ số"
      ],
      "metadata": {
        "id": "TYmeeF2TaRgq"
      }
    },
    {
      "cell_type": "markdown",
      "source": [
        "Viết hàm sắp xếp chuỗi tăng dần theo hai kiểu (string compare hoặc integer compare)"
      ],
      "metadata": {
        "id": "1kzALmuCaWnL"
      }
    },
    {
      "cell_type": "code",
      "source": [
        "A = ['3', '27', '5', '123', '9', '1']\n",
        "\n",
        "# string compare (so sánh như chuỗi, từ điển)\n",
        "string_sorted = sorted(A)\n",
        "print(\"String compare:\", string_sorted)\n",
        "\n",
        "# integer compare (so sánh như số nguyên)\n",
        "int_sorted = sorted(A, key=int)\n",
        "print(\"Integer compare:\", int_sorted)\n"
      ],
      "metadata": {
        "colab": {
          "base_uri": "https://localhost:8080/"
        },
        "id": "AooTiHfBbJZC",
        "outputId": "2041cdcf-b472-4953-cc89-2b1bf0450639"
      },
      "execution_count": null,
      "outputs": [
        {
          "output_type": "stream",
          "name": "stdout",
          "text": [
            "String compare: ['1', '123', '27', '3', '5', '9']\n",
            "Integer compare: ['1', '3', '5', '9', '27', '123']\n"
          ]
        }
      ]
    },
    {
      "cell_type": "markdown",
      "source": [
        "### 2. Viết chương trình in list sau khi đã xóa số tại vị trí thứ 1, thứ 2, thứ 3, thứ 6 trong [12,24,35,70,88,120,155]."
      ],
      "metadata": {
        "id": "ppJZpATKbW0B"
      }
    },
    {
      "cell_type": "code",
      "source": [
        "L = [12, 24, 35, 70, 88, 120, 155]\n",
        "\n",
        "# cách 1: dùng list comprehension, chỉ giữ lại các phần tử không thuộc index cần xóa\n",
        "remove_index = [1, 2, 3, 6]\n",
        "result = [val for idx, val in enumerate(L) if idx not in remove_index]\n",
        "print(\"Kết quả:\", result)\n"
      ],
      "metadata": {
        "colab": {
          "base_uri": "https://localhost:8080/"
        },
        "id": "YT-lQQL2bWkY",
        "outputId": "475d017c-668f-4841-eb6b-7088415b4ea8"
      },
      "execution_count": null,
      "outputs": [
        {
          "output_type": "stream",
          "name": "stdout",
          "text": [
            "Kết quả: [12, 88, 120]\n"
          ]
        }
      ]
    },
    {
      "cell_type": "markdown",
      "source": [
        "### 3. Xóa các phần tử trùng nhau trong list."
      ],
      "metadata": {
        "id": "h3575W3Ybtsh"
      }
    },
    {
      "cell_type": "markdown",
      "source": [
        "a) Dùng vòng lặp, Yêu cầu không dùng hàm của kiểu dữ liệu dictionary và set\n",
        "\n"
      ],
      "metadata": {
        "id": "7X1Mg3h9bwdY"
      }
    },
    {
      "cell_type": "code",
      "source": [
        "A = [1, 2, 3, 1, 2, 5, 6, 7, 8]\n",
        "B = []\n",
        "\n",
        "for x in A:\n",
        "    if x not in B:\n",
        "        B.append(x)\n",
        "print(\"Kết quả:\", B)"
      ],
      "metadata": {
        "colab": {
          "base_uri": "https://localhost:8080/"
        },
        "id": "AmL-Qqk0cMOW",
        "outputId": "bf2ec953-fbba-43be-8b85-5e02366f7ce8"
      },
      "execution_count": null,
      "outputs": [
        {
          "output_type": "stream",
          "name": "stdout",
          "text": [
            "Kết quả: [1, 2, 3, 5, 6, 7, 8]\n"
          ]
        }
      ]
    },
    {
      "cell_type": "markdown",
      "source": [
        "b) Không ràng buộc"
      ],
      "metadata": {
        "id": "5ShHrCyhcP9n"
      }
    },
    {
      "cell_type": "code",
      "source": [
        "A = [1, 2, 3, 1, 2, 5, 6, 7, 8]\n",
        "B = list(set(A))\n",
        "print(\"Kết quả:\", B)"
      ],
      "metadata": {
        "colab": {
          "base_uri": "https://localhost:8080/"
        },
        "id": "3ChZiblbcQcG",
        "outputId": "a3ed62a8-7776-4bbe-b38f-90b405c95317"
      },
      "execution_count": null,
      "outputs": [
        {
          "output_type": "stream",
          "name": "stdout",
          "text": [
            "Kết quả: [1, 2, 3, 5, 6, 7, 8]\n"
          ]
        }
      ]
    },
    {
      "cell_type": "markdown",
      "source": [
        "### 4. Đếm số lần xuất hiện của các phần tử trong list"
      ],
      "metadata": {
        "id": "s1PwaTbwbzMv"
      }
    },
    {
      "cell_type": "markdown",
      "source": [
        "a) Dùng vòng lặp, Yêu cầu không dùng hàm của kiểu dữ liệu dictionary, set hay module collections\n",
        "\n"
      ],
      "metadata": {
        "id": "ePTZKYUlbz94"
      }
    },
    {
      "cell_type": "code",
      "source": [
        "A = [1,1,1,1,2,2,2,2,3,3,4,5,5]\n",
        "checked = []\n",
        "\n",
        "for x in A:\n",
        "    if x not in checked:\n",
        "        count = 0\n",
        "        for y in A:\n",
        "            if y == x:\n",
        "                count += 1\n",
        "        print(f\"{x}: {count}\")\n",
        "        checked.append(x)"
      ],
      "metadata": {
        "colab": {
          "base_uri": "https://localhost:8080/"
        },
        "id": "AjUn3cxhcggw",
        "outputId": "b45d1a4e-6cbc-4051-c638-83374422bcbd"
      },
      "execution_count": null,
      "outputs": [
        {
          "output_type": "stream",
          "name": "stdout",
          "text": [
            "1: 4\n",
            "2: 4\n",
            "3: 2\n",
            "4: 1\n",
            "5: 2\n"
          ]
        }
      ]
    },
    {
      "cell_type": "markdown",
      "source": [
        "b) Không ràng buộc"
      ],
      "metadata": {
        "id": "8dxGYxgtcpgg"
      }
    },
    {
      "cell_type": "code",
      "source": [
        "A = [1,1,1,1,2,2,2,2,3,3,4,5,5]\n",
        "count_dict = {}\n",
        "\n",
        "for x in A:\n",
        "    count_dict[x] = count_dict.get(x, 0) + 1\n",
        "print(count_dict)"
      ],
      "metadata": {
        "colab": {
          "base_uri": "https://localhost:8080/"
        },
        "id": "qnOI785AcrLv",
        "outputId": "4f7d0407-13aa-4299-c92d-43ac7adfbf9f"
      },
      "execution_count": null,
      "outputs": [
        {
          "output_type": "stream",
          "name": "stdout",
          "text": [
            "{1: 4, 2: 4, 3: 2, 4: 1, 5: 2}\n"
          ]
        }
      ]
    },
    {
      "cell_type": "markdown",
      "source": [
        "### 5. Viết chương trình nhập một list chứa các số nguyên dương theo các yêu cầu sau:"
      ],
      "metadata": {
        "id": "308lvg4Pb4lX"
      }
    },
    {
      "cell_type": "markdown",
      "source": [
        " a) nhập trước số phần từ của list, sau đó nhập từng phần tử.\n",
        "\n",
        "\n"
      ],
      "metadata": {
        "id": "ywHrnG1Mb7Nv"
      }
    },
    {
      "cell_type": "code",
      "source": [
        "n = int(input(\"Nhập số phần tử: \"))\n",
        "A = []\n",
        "for i in range(n):\n",
        "    x = int(input(f\"Nhập phần tử {i+1}: \"))\n",
        "    while x <= 0:\n",
        "        x = int(input(\"Nhập lại (nguyên dương): \"))\n",
        "    A.append(x)\n",
        "print(\"List A:\", A)"
      ],
      "metadata": {
        "colab": {
          "base_uri": "https://localhost:8080/"
        },
        "id": "7VJTQcSiczsw",
        "outputId": "b814813b-6cae-40df-8778-4eea080d4edc"
      },
      "execution_count": null,
      "outputs": [
        {
          "output_type": "stream",
          "name": "stdout",
          "text": [
            "Nhập số phần tử: 3\n",
            "Nhập phần tử 1: 4\n",
            "Nhập phần tử 2: 5\n",
            "Nhập phần tử 3: 6\n",
            "List A: [2, 3, 4, 5, 6]\n"
          ]
        }
      ]
    },
    {
      "cell_type": "markdown",
      "source": [
        " b) không nhập trước số lượng phần tử, quá trình nhập kết thức nếu nhập vào số -1."
      ],
      "metadata": {
        "id": "nhDY05huc1g2"
      }
    },
    {
      "cell_type": "code",
      "source": [
        "B = []\n",
        "while True:\n",
        "    x = int(input(\"Nhập số (dừng nếu -1): \"))\n",
        "    if x == -1:\n",
        "        break\n",
        "    if x > 0:\n",
        "        B.append(x)\n",
        "    else:\n",
        "        print(\"Chỉ nhận số nguyên dương hoặc -1 để dừng.\")\n",
        "print(\"List B:\", B)"
      ],
      "metadata": {
        "colab": {
          "base_uri": "https://localhost:8080/"
        },
        "id": "TMQDIVOqdAvI",
        "outputId": "7068e30e-9b78-4625-91c3-3f70323db5b5"
      },
      "execution_count": null,
      "outputs": [
        {
          "output_type": "stream",
          "name": "stdout",
          "text": [
            "Nhập số (dừng nếu -1): -5\n",
            "Chỉ nhận số nguyên dương hoặc -1 để dừng.\n",
            "Nhập số (dừng nếu -1): 1\n",
            "Nhập số (dừng nếu -1): 6\n",
            "Nhập số (dừng nếu -1): -1\n",
            "List B: [1, 6]\n"
          ]
        }
      ]
    },
    {
      "cell_type": "markdown",
      "source": [
        "### 6. Cho 2 list như sau: ( 2 list có thể khác độ dài) a = [1, 1, 2, 3, 5, 8, 13, 21, 34, 55, 89], b = [1, 2, 3, 4, 5, 6, 7, 8, 9, 10, 11, 12, 13]\n"
      ],
      "metadata": {
        "id": "ZnB5o6Z0b9Hx"
      }
    },
    {
      "cell_type": "markdown",
      "source": [
        "Viết chương trình tạo ra một list chứa các phần tử chung của 2 list ban đầu theo các yêu cầu sau:\n",
        "\n",
        "a) Không dùng List Comprehension\n",
        "\n"
      ],
      "metadata": {
        "id": "qNde-vDVcE65"
      }
    },
    {
      "cell_type": "code",
      "source": [
        "a = [1, 1, 2, 3, 5, 8, 13, 21, 34, 55, 89]\n",
        "b = [1, 2, 3, 4, 5, 6, 7, 8, 9, 10, 11, 12, 13]\n",
        "common = []\n",
        "\n",
        "for x in a:\n",
        "    if x in b and x not in common:\n",
        "        common.append(x)\n",
        "print(\"Kết quả:\", common)"
      ],
      "metadata": {
        "colab": {
          "base_uri": "https://localhost:8080/"
        },
        "id": "YeuFjwc-dLMG",
        "outputId": "7b463567-eeda-4439-c900-95543f690443"
      },
      "execution_count": null,
      "outputs": [
        {
          "output_type": "stream",
          "name": "stdout",
          "text": [
            "Kết quả: [1, 2, 3, 5, 8, 13]\n"
          ]
        }
      ]
    },
    {
      "cell_type": "markdown",
      "source": [
        "b) Dùng List Comprehension"
      ],
      "metadata": {
        "id": "BtTeKbHPdKlP"
      }
    },
    {
      "cell_type": "code",
      "source": [
        "common = [x for x in a if x in b]\n",
        "print(\"Kết quả:\", list(set(common)))"
      ],
      "metadata": {
        "colab": {
          "base_uri": "https://localhost:8080/"
        },
        "id": "DXodMcpCdLan",
        "outputId": "44280887-7000-4f09-da85-5342c2a4ed81"
      },
      "execution_count": null,
      "outputs": [
        {
          "output_type": "stream",
          "name": "stdout",
          "text": [
            "Kết quả: [1, 2, 3, 5, 8, 13]\n"
          ]
        }
      ]
    }
  ]
}