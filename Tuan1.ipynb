{
  "nbformat": 4,
  "nbformat_minor": 0,
  "metadata": {
    "colab": {
      "provenance": [],
      "toc_visible": true,
      "mount_file_id": "1_d-o7FvPhF6oTw6QM3AfbaXUlhyzTrxM",
      "authorship_tag": "ABX9TyNmOhkWU5t33K5dyohNpTlj",
      "include_colab_link": true
    },
    "kernelspec": {
      "name": "python3",
      "display_name": "Python 3"
    },
    "language_info": {
      "name": "python"
    }
  },
  "cells": [
    {
      "cell_type": "markdown",
      "metadata": {
        "id": "view-in-github",
        "colab_type": "text"
      },
      "source": [
        "<a href=\"https://colab.research.google.com/github/ThienBao224/Python/blob/main/Tuan1.ipynb\" target=\"_parent\"><img src=\"https://colab.research.google.com/assets/colab-badge.svg\" alt=\"Open In Colab\"/></a>"
      ]
    },
    {
      "cell_type": "markdown",
      "source": [
        "# BIẾN, TỪ KHOÁ, ĐỊNH DANH, KIỂU DỮ LIỆU"
      ],
      "metadata": {
        "id": "ZyMN7DapOTYF"
      }
    },
    {
      "cell_type": "markdown",
      "source": [
        "# Lý thuyết"
      ],
      "metadata": {
        "id": "IlEdI1Tb8grH"
      }
    },
    {
      "cell_type": "markdown",
      "source": [
        "Ghi chú thích: Dùng 3 nháy đôi hoặc đơn ''' or \"\"\""
      ],
      "metadata": {
        "id": "eiEArLwL4kFa"
      }
    },
    {
      "cell_type": "code",
      "source": [
        "'''\n",
        "Giải phương trình bậc 1: ax + b = 0\n",
        "Có 3 trường hợp để biện luận\n",
        "Nếu hệ số a =0 và hệ số b = 0 ==>vô số nghiệm\n",
        "Nếu hệ số a =0 và hệ số b !=0 ==>vô nghiệm\n",
        "Nếu hệ số a t = 0 ==> có nghiệm -b/a\n",
        "'''\n",
        "a = 0\n",
        "b = 113\n",
        "if a == 0 and b == 0:\n",
        "  print(\"Vô số nghiệm\")\n",
        "elif a == 0 and b!= 0:\n",
        "  print(\"Vô nghiệm\")\n",
        "else:\n",
        "  print(\"Có No X=\", -b/a)\n"
      ],
      "metadata": {
        "colab": {
          "base_uri": "https://localhost:8080/"
        },
        "id": "N4CZraWkvY_9",
        "outputId": "bcf58543-df16-4f7b-dec6-b4809cb5beae"
      },
      "execution_count": null,
      "outputs": [
        {
          "output_type": "stream",
          "name": "stdout",
          "text": [
            "Vô nghiệm\n"
          ]
        }
      ]
    },
    {
      "cell_type": "markdown",
      "source": [
        "Xuất dữ liệu\n",
        "Sử dụng hàm print in dữ liệu ra màn hình"
      ],
      "metadata": {
        "id": "A2epQboj4vkB"
      }
    },
    {
      "cell_type": "code",
      "source": [
        "# In chuỗi đơn giản\n",
        "print(\"Hello, world!\")\n",
        "# In số\n",
        "x = 10\n",
        "print(x)\n",
        "# In nhiều giá trị\n",
        "name = \"Alice\"\n",
        "age = 25\n",
        "# Sử dụng f-string (Python 3.6 trở lên)\n",
        "print(f\"{name} is {age} years old\")\n",
        "# In danh sách\n",
        "my_list = [1, 2, 3, 4, 5]\n",
        "print(\"My list:\", my_list)"
      ],
      "metadata": {
        "colab": {
          "base_uri": "https://localhost:8080/"
        },
        "id": "IfYCZ7-jwGDU",
        "outputId": "da04ae7c-2a5b-4daf-ced3-0701ed951a84"
      },
      "execution_count": null,
      "outputs": [
        {
          "output_type": "stream",
          "name": "stdout",
          "text": [
            "Hello, world!\n",
            "10\n",
            "Name: Alice Age. 25\n",
            "Alice is 25 years old\n",
            "My list: [1, 2, 3, 4, 5]\n"
          ]
        }
      ]
    },
    {
      "cell_type": "markdown",
      "source": [
        "Nhập dữ liệu\n",
        "Sử dụng hàm input để nhập dữ liệu từ bàn phím"
      ],
      "metadata": {
        "id": "T3TDF8k24147"
      }
    },
    {
      "cell_type": "code",
      "source": [
        "name = input(\"What's your name? \")\n",
        "print(\"Nice to meet you \" + name + \"!\")\n",
        "age = input(\"Your age? \")\n",
        "print(\"You are already\" + age + \"years old, \" + name +\"!\")"
      ],
      "metadata": {
        "colab": {
          "base_uri": "https://localhost:8080/"
        },
        "id": "F5mTLtluyURy",
        "outputId": "6a4feef0-a477-4c5a-e4aa-465920b0edf8"
      },
      "execution_count": null,
      "outputs": [
        {
          "output_type": "stream",
          "name": "stdout",
          "text": [
            "What's your name? Dat\n",
            "Nice to meet youDat!\n",
            "Your age? \n",
            "You are alreadyyears old, Dat!\n"
          ]
        }
      ]
    },
    {
      "cell_type": "markdown",
      "source": [
        "Viết chương trình tính nghiệm của phương trình bậc 2"
      ],
      "metadata": {
        "id": "pS9vFWeK5xwh"
      }
    },
    {
      "cell_type": "code",
      "source": [
        "a = float(input(\"A = \"))\n",
        "b = float(input(\"B = \"))\n",
        "c = float(input(\"C = \"))\n",
        "delta = b**b - 4*a*c\n",
        "if delta == 0:\n",
        "  print(\"Nghiem kep: x= \", str(-b/2/a))\n",
        "if delta<0:\n",
        "    print(\"Phuong trinh vo nghiem \")\n",
        "if delta > 0 :\n",
        "  print(\"X1 = \" + str((-b+delta**0.5)/2/a))\n",
        "  print(\"X2 = \" + str((-b-delta**0.5)/2/a))"
      ],
      "metadata": {
        "colab": {
          "base_uri": "https://localhost:8080/"
        },
        "id": "LJzmF4MszHDx",
        "outputId": "640001b1-0c70-46af-d22a-93df6f693f64"
      },
      "execution_count": null,
      "outputs": [
        {
          "output_type": "stream",
          "name": "stdout",
          "text": [
            "A = 1\n",
            "B = 4\n",
            "C = 2\n",
            "X1 = 5.874007874011811\n",
            "X2 = -9.874007874011811\n"
          ]
        }
      ]
    },
    {
      "cell_type": "markdown",
      "source": [
        "Toán tử logic: and, or, not"
      ],
      "metadata": {
        "id": "f3hRAb1Y3k47"
      }
    },
    {
      "cell_type": "code",
      "source": [
        "a = True\n",
        "b = False\n",
        "\n",
        "print(('a and b is',a and b))\n",
        "print(('a or b is',a or b))\n",
        "print(('not a is',not a))"
      ],
      "metadata": {
        "colab": {
          "base_uri": "https://localhost:8080/"
        },
        "id": "_ogJ4s6n1TIZ",
        "outputId": "baa9aa74-d936-4a12-d80f-c4cc1df79f27"
      },
      "execution_count": null,
      "outputs": [
        {
          "output_type": "stream",
          "name": "stdout",
          "text": [
            "('a and b is', False)\n",
            "('a or b is', True)\n",
            "('not a is', False)\n"
          ]
        }
      ]
    },
    {
      "cell_type": "markdown",
      "source": [
        "Cấu trúc rẽ nhánh if-else"
      ],
      "metadata": {
        "id": "_-m3cyM-3cpz"
      }
    },
    {
      "cell_type": "code",
      "source": [
        "x = int(input(\"Nhap mot so:\"))\n",
        "if x< 0:\n",
        "  x = 0\n",
        "  print(' so am')\n",
        "elif x ==0:\n",
        "  print('so 0')\n",
        "elif x==1:\n",
        "  print('so 1')\n",
        "else:\n",
        "  print('so duong')"
      ],
      "metadata": {
        "colab": {
          "base_uri": "https://localhost:8080/"
        },
        "id": "wvjXTbCK1-iu",
        "outputId": "1a311502-bcf5-4597-ac04-d8edaca0eaa9"
      },
      "execution_count": null,
      "outputs": [
        {
          "output_type": "stream",
          "name": "stdout",
          "text": [
            "Nhap mot so:-5\n",
            " so am\n"
          ]
        }
      ]
    },
    {
      "cell_type": "markdown",
      "source": [
        "Vòng lặp while"
      ],
      "metadata": {
        "id": "i2rOh7P93Zjk"
      }
    },
    {
      "cell_type": "code",
      "source": [
        "n = int(input(\"Nhập n: \"))\n",
        "tong = 0\n",
        "i = 1\n",
        "while i <= n:\n",
        "  tong = tong + i\n",
        "  i = i + 1\n",
        "print(\"Tổng là\", tong)"
      ],
      "metadata": {
        "colab": {
          "base_uri": "https://localhost:8080/"
        },
        "id": "5F65k2yy20p0",
        "outputId": "20f7e5a7-0423-464d-a560-78c108dc9873"
      },
      "execution_count": null,
      "outputs": [
        {
          "output_type": "stream",
          "name": "stdout",
          "text": [
            "Nhập n: 5\n",
            "Tổng là 15\n"
          ]
        }
      ]
    },
    {
      "cell_type": "markdown",
      "source": [
        "Vòng lặp while kết hợp với else"
      ],
      "metadata": {
        "id": "6AokYPDJ3phz"
      }
    },
    {
      "cell_type": "code",
      "source": [
        "dem = 0\n",
        "while dem<3:\n",
        "  print(\"Đang ở trong vòng lặp while\")\n",
        "  dem = dem + 1\n",
        "else:\n",
        "  print(\"Đang ở trong vòng lặp else\")"
      ],
      "metadata": {
        "colab": {
          "base_uri": "https://localhost:8080/"
        },
        "id": "M7yBq8EC3tq7",
        "outputId": "6031d48d-c181-4a21-d589-e4da977642cf"
      },
      "execution_count": null,
      "outputs": [
        {
          "output_type": "stream",
          "name": "stdout",
          "text": [
            "Đang ở trong vòng lặp while\n",
            "Đang ở trong vòng lặp while\n",
            "Đang ở trong vòng lặp while\n",
            "Đang ở trong vòng lặp else\n"
          ]
        }
      ]
    },
    {
      "cell_type": "markdown",
      "source": [
        "Vòng lặp for"
      ],
      "metadata": {
        "id": "6obzMPnH31Cj"
      }
    },
    {
      "cell_type": "code",
      "source": [
        "x=0\n",
        "#Define a for loop\n",
        "for x in range(2,7):\n",
        "  print(x)"
      ],
      "metadata": {
        "colab": {
          "base_uri": "https://localhost:8080/"
        },
        "id": "ZGUjbOVs4BPr",
        "outputId": "9a511dd7-a496-4763-ab96-60eab846fd84"
      },
      "execution_count": null,
      "outputs": [
        {
          "output_type": "stream",
          "name": "stdout",
          "text": [
            "2\n",
            "3\n",
            "4\n",
            "5\n",
            "6\n"
          ]
        }
      ]
    },
    {
      "cell_type": "markdown",
      "source": [
        "Cách sử dụng vòng lặp for cho chuỗi"
      ],
      "metadata": {
        "id": "pnPEW7Hm4MZq"
      }
    },
    {
      "cell_type": "code",
      "source": [
        "Months = [\"Jan\", \"Feb\", \"Mar\", \"April\", \"May\", \"June\"]\n",
        "for m in Months:\n",
        "  print(m)"
      ],
      "metadata": {
        "colab": {
          "base_uri": "https://localhost:8080/"
        },
        "id": "f1X6iiiM4Rgp",
        "outputId": "657387b1-0907-40a4-e6a5-ab3f2b73188e"
      },
      "execution_count": null,
      "outputs": [
        {
          "output_type": "stream",
          "name": "stdout",
          "text": [
            "Jan\n",
            "Feb\n",
            "Mar\n",
            "April\n",
            "May\n",
            "June\n"
          ]
        }
      ]
    },
    {
      "cell_type": "markdown",
      "source": [
        "Function"
      ],
      "metadata": {
        "id": "56tP9ot35DbB"
      }
    },
    {
      "cell_type": "code",
      "source": [
        "def tich(a, b = 1):\n",
        "  return a*b\n",
        "print(tich(10, 20))\n",
        "print(tich(10))\n",
        "print(tich(a=5))\n",
        "print(tich(b=6, a=5))"
      ],
      "metadata": {
        "colab": {
          "base_uri": "https://localhost:8080/"
        },
        "id": "SujyFnDM5NjB",
        "outputId": "744abfd2-6a5a-48ed-c174-289e878badb0"
      },
      "execution_count": null,
      "outputs": [
        {
          "output_type": "stream",
          "name": "stdout",
          "text": [
            "200\n",
            "10\n",
            "5\n",
            "30\n"
          ]
        }
      ]
    },
    {
      "cell_type": "markdown",
      "source": [
        "# Thực hành"
      ],
      "metadata": {
        "id": "rX2K9c9c8Yoo"
      }
    },
    {
      "cell_type": "markdown",
      "source": [
        "1. Viết chương trình nhập số A và kiểm tra xem A có phải là số nguyên tố hay không?"
      ],
      "metadata": {
        "id": "cePk6f5R5-Tx"
      }
    },
    {
      "cell_type": "code",
      "source": [
        "import math\n",
        "A = int(input(\"Nhập số A: \"))\n",
        "\n",
        "if A < 2:\n",
        "    print(A, \"không phải là số nguyên tố\")\n",
        "else:\n",
        "    check = True\n",
        "    for i in range(2, int(math.sqrt(A)) + 1):\n",
        "        if A % i == 0:\n",
        "            check = False\n",
        "            break\n",
        "    if check:\n",
        "        print(A, \"là số nguyên tố\")\n",
        "    else:\n",
        "        print(A, \"không phải là số nguyên tố\")"
      ],
      "metadata": {
        "colab": {
          "base_uri": "https://localhost:8080/"
        },
        "id": "b2c4I7_b6CSP",
        "outputId": "8e0f8866-4895-4515-8d87-b4326e0a15a6"
      },
      "execution_count": null,
      "outputs": [
        {
          "output_type": "stream",
          "name": "stdout",
          "text": [
            "Nhập số A: 4\n",
            "4 không phải là số nguyên tố\n"
          ]
        }
      ]
    },
    {
      "cell_type": "markdown",
      "source": [
        "\n",
        "2. Viết chương trình in ra tất cả số chẵn trong khoảng (M,N) . N, M nhập từ bàn phím.\n"
      ],
      "metadata": {
        "id": "d_m0EgUN60YH"
      }
    },
    {
      "cell_type": "code",
      "source": [
        "M = int(input(\"Nhập M: \"))\n",
        "N = int(input(\"Nhập N: \"))\n",
        "\n",
        "if M < N:\n",
        "    print(\"Các số chẵn trong khoảng (M,N):\")\n",
        "    for x in range(M + 1, N):\n",
        "        if x % 2 == 0:\n",
        "            print(x, end=\" \")\n",
        "    print()\n",
        "else:\n",
        "    print(\"Giá trị không hợp lệ! Yêu cầu N > M.\")"
      ],
      "metadata": {
        "colab": {
          "base_uri": "https://localhost:8080/"
        },
        "id": "L3Yy5o347GUp",
        "outputId": "eebbd70d-ac90-4bed-8c96-5e9915ca3433"
      },
      "execution_count": null,
      "outputs": [
        {
          "output_type": "stream",
          "name": "stdout",
          "text": [
            "Nhập M: 5\n",
            "Nhập N: 20\n",
            "Các số chẵn trong khoảng (M,N):\n",
            "6 8 10 12 14 16 18 \n"
          ]
        }
      ]
    },
    {
      "cell_type": "markdown",
      "source": [
        "3. Viết chương trình in ra bảng củu chương."
      ],
      "metadata": {
        "id": "GPy7_PVPB1MY"
      }
    },
    {
      "cell_type": "code",
      "source": [
        "for n in range(1, 10):\n",
        "    print(f\"\\nBảng cửu chương {n}:\")\n",
        "    for i in range(1, 10):\n",
        "        print(f\"{n} x {i} = {n * i}\")"
      ],
      "metadata": {
        "colab": {
          "base_uri": "https://localhost:8080/"
        },
        "collapsed": true,
        "id": "oiM7OUQf7RWv",
        "outputId": "7e39b97c-4ef1-4a92-f6a5-98766e14583d"
      },
      "execution_count": null,
      "outputs": [
        {
          "output_type": "stream",
          "name": "stdout",
          "text": [
            "\n",
            "Bảng cửu chương 1:\n",
            "1 x 1 = 1\n",
            "1 x 2 = 2\n",
            "1 x 3 = 3\n",
            "1 x 4 = 4\n",
            "1 x 5 = 5\n",
            "1 x 6 = 6\n",
            "1 x 7 = 7\n",
            "1 x 8 = 8\n",
            "1 x 9 = 9\n",
            "\n",
            "Bảng cửu chương 2:\n",
            "2 x 1 = 2\n",
            "2 x 2 = 4\n",
            "2 x 3 = 6\n",
            "2 x 4 = 8\n",
            "2 x 5 = 10\n",
            "2 x 6 = 12\n",
            "2 x 7 = 14\n",
            "2 x 8 = 16\n",
            "2 x 9 = 18\n",
            "\n",
            "Bảng cửu chương 3:\n",
            "3 x 1 = 3\n",
            "3 x 2 = 6\n",
            "3 x 3 = 9\n",
            "3 x 4 = 12\n",
            "3 x 5 = 15\n",
            "3 x 6 = 18\n",
            "3 x 7 = 21\n",
            "3 x 8 = 24\n",
            "3 x 9 = 27\n",
            "\n",
            "Bảng cửu chương 4:\n",
            "4 x 1 = 4\n",
            "4 x 2 = 8\n",
            "4 x 3 = 12\n",
            "4 x 4 = 16\n",
            "4 x 5 = 20\n",
            "4 x 6 = 24\n",
            "4 x 7 = 28\n",
            "4 x 8 = 32\n",
            "4 x 9 = 36\n",
            "\n",
            "Bảng cửu chương 5:\n",
            "5 x 1 = 5\n",
            "5 x 2 = 10\n",
            "5 x 3 = 15\n",
            "5 x 4 = 20\n",
            "5 x 5 = 25\n",
            "5 x 6 = 30\n",
            "5 x 7 = 35\n",
            "5 x 8 = 40\n",
            "5 x 9 = 45\n",
            "\n",
            "Bảng cửu chương 6:\n",
            "6 x 1 = 6\n",
            "6 x 2 = 12\n",
            "6 x 3 = 18\n",
            "6 x 4 = 24\n",
            "6 x 5 = 30\n",
            "6 x 6 = 36\n",
            "6 x 7 = 42\n",
            "6 x 8 = 48\n",
            "6 x 9 = 54\n",
            "\n",
            "Bảng cửu chương 7:\n",
            "7 x 1 = 7\n",
            "7 x 2 = 14\n",
            "7 x 3 = 21\n",
            "7 x 4 = 28\n",
            "7 x 5 = 35\n",
            "7 x 6 = 42\n",
            "7 x 7 = 49\n",
            "7 x 8 = 56\n",
            "7 x 9 = 63\n",
            "\n",
            "Bảng cửu chương 8:\n",
            "8 x 1 = 8\n",
            "8 x 2 = 16\n",
            "8 x 3 = 24\n",
            "8 x 4 = 32\n",
            "8 x 5 = 40\n",
            "8 x 6 = 48\n",
            "8 x 7 = 56\n",
            "8 x 8 = 64\n",
            "8 x 9 = 72\n",
            "\n",
            "Bảng cửu chương 9:\n",
            "9 x 1 = 9\n",
            "9 x 2 = 18\n",
            "9 x 3 = 27\n",
            "9 x 4 = 36\n",
            "9 x 5 = 45\n",
            "9 x 6 = 54\n",
            "9 x 7 = 63\n",
            "9 x 8 = 72\n",
            "9 x 9 = 81\n"
          ]
        }
      ]
    },
    {
      "cell_type": "markdown",
      "source": [
        "4. Viết chương trình tính các tổng sau bằng cách sử dụng hàm:\n",
        " S=1+2+3+……….. +n Với n >=1\n",
        "S=𝟏𝟐+ 𝟐𝟐+ 𝟑𝟐 +⋯+𝒏^2"
      ],
      "metadata": {
        "id": "pB5L0YL89BDG"
      }
    },
    {
      "cell_type": "code",
      "source": [
        "n = int(input(\"Nhập n: \"))\n",
        "\n",
        "if n >= 1:\n",
        "    S1 = n * (n + 1) // 2\n",
        "    S2 = n * (n + 1) * (2*n + 1) // 6\n",
        "    print(\"Tổng 1 + 2 + ... + n =\", S1)\n",
        "    print(\"Tổng 1^2 + 2^2 + ... + n^2 =\", S2)\n",
        "else:\n",
        "    print(\"n phải > 0\")"
      ],
      "metadata": {
        "colab": {
          "base_uri": "https://localhost:8080/"
        },
        "id": "-ArkyUpb9LJW",
        "outputId": "56f4b3f7-c3ce-4910-bc47-66eaa2d69e96"
      },
      "execution_count": null,
      "outputs": [
        {
          "output_type": "stream",
          "name": "stdout",
          "text": [
            "Nhập n: 3\n",
            "Tổng 1 + 2 + ... + n = 6\n",
            "Tổng 1^2 + 2^2 + ... + n^2 = 14\n"
          ]
        }
      ]
    },
    {
      "cell_type": "markdown",
      "source": [
        "5. Viết chương trình nhập một danh sách các số và sắp xếp nó theo thứ tự tăng dần mà không sử dụng hàm sắp xếp có sẵn.\n"
      ],
      "metadata": {
        "id": "TsaFufAa-F42"
      }
    },
    {
      "cell_type": "code",
      "source": [
        "arr = list(map(int, input(\"Nhập danh sách các số: \").split()))\n",
        "n = len(arr)\n",
        "\n",
        "for i in range(n - 1):\n",
        "    min = i\n",
        "    for j in range(i + 1, n):\n",
        "        if arr[j] < arr[min]:\n",
        "            min = j\n",
        "    arr[i], arr[min] = arr[min], arr[i]\n",
        "\n",
        "print(\"Danh sách sau khi sắp xếp tăng dần:\", arr)"
      ],
      "metadata": {
        "colab": {
          "base_uri": "https://localhost:8080/"
        },
        "id": "bD7eM8ws-JI9",
        "outputId": "f4284486-7591-4567-91dc-3e25232b02f9"
      },
      "execution_count": null,
      "outputs": [
        {
          "output_type": "stream",
          "name": "stdout",
          "text": [
            "Nhập danh sách các số: 2 58 1 56 98 752 6 48 21 11\n",
            "Danh sách sau khi sắp xếp tăng dần: [1, 2, 6, 11, 21, 48, 56, 58, 98, 752]\n"
          ]
        }
      ]
    },
    {
      "cell_type": "markdown",
      "source": [
        "6. Liệt kê số nguyên tố: Viết chương trình nhập một số nguyên n và liệt kê tất cả các số nguyên tố nhỏ hơn n."
      ],
      "metadata": {
        "id": "xmd8koND-KVd"
      }
    },
    {
      "cell_type": "code",
      "source": [
        "import math\n",
        "\n",
        "n = int(input(\"Nhập n: \"))\n",
        "print(\"Các số nguyên tố nhỏ hơn\", n, \":\")\n",
        "for x in range(2, n):\n",
        "    check = True\n",
        "    for i in range(2, int(math.sqrt(x)) + 1):\n",
        "        if x % i == 0:\n",
        "            check = False\n",
        "            break\n",
        "    if check:\n",
        "        print(x, end=\" \")\n",
        "print()"
      ],
      "metadata": {
        "colab": {
          "base_uri": "https://localhost:8080/"
        },
        "id": "OLQ9Y69p-MNt",
        "outputId": "7af1dcd6-01c6-46cc-a851-48b9baafc4e4"
      },
      "execution_count": null,
      "outputs": [
        {
          "output_type": "stream",
          "name": "stdout",
          "text": [
            "Nhập n: 10\n",
            "Các số nguyên tố nhỏ hơn 10 :\n",
            "2 3 5 7 \n"
          ]
        }
      ]
    },
    {
      "cell_type": "markdown",
      "source": [
        "7. Tính tổng các số lẻ: Nhập một dãy số từ người dùng cho đến khi họ nhập \"stop\" và tính tổng các số lẻ trong dãy."
      ],
      "metadata": {
        "id": "O6vu-dCb-N1r"
      }
    },
    {
      "cell_type": "code",
      "source": [
        "tong = 0\n",
        "while True:\n",
        "    x = input(\"Nhập số (hoặc 'stop' để kết thúc): \")\n",
        "    if x == \"stop\":\n",
        "        break\n",
        "    num = int(x)\n",
        "    if num % 2 != 0:\n",
        "        tong += num\n",
        "print(\"Tổng các số lẻ:\", tong)"
      ],
      "metadata": {
        "colab": {
          "base_uri": "https://localhost:8080/"
        },
        "id": "1hDX3Yz4-O32",
        "outputId": "2e49325f-7e64-4b3c-dccd-6cb1ad2bba3c"
      },
      "execution_count": null,
      "outputs": [
        {
          "output_type": "stream",
          "name": "stdout",
          "text": [
            "Nhập số (hoặc 'stop' để kết thúc): 5\n",
            "Nhập số (hoặc 'stop' để kết thúc): 3\n",
            "Nhập số (hoặc 'stop' để kết thúc): 2\n",
            "Nhập số (hoặc 'stop' để kết thúc): 4\n",
            "Nhập số (hoặc 'stop' để kết thúc): 6\n",
            "Nhập số (hoặc 'stop' để kết thúc): stop\n",
            "Tổng các số lẻ: 8\n"
          ]
        }
      ]
    },
    {
      "cell_type": "markdown",
      "source": [
        " 8. Tạo hình chữ nhật rỗng: Nhập chiều dài và chiều rộng và in ra hình chữ nhật rỗng bằng dấu \"*\".\n"
      ],
      "metadata": {
        "id": "iwddhrNq-PLG"
      }
    },
    {
      "cell_type": "code",
      "source": [
        "dai = int(input(\"Nhập chiều dài: \"))\n",
        "rong = int(input(\"Nhập chiều rộng: \"))\n",
        "\n",
        "for i in range(rong):\n",
        "    for j in range(dai):\n",
        "        if i == 0 or i == rong - 1 or j == 0 or j == dai - 1:\n",
        "            print(\"*\", end=\" \")\n",
        "        else:\n",
        "            print(\" \", end=\" \")\n",
        "    print()"
      ],
      "metadata": {
        "colab": {
          "base_uri": "https://localhost:8080/"
        },
        "id": "VB8QigTf-Qys",
        "outputId": "1b2d3e5b-c7f3-4eb4-c103-ffb702dd8f52"
      },
      "execution_count": null,
      "outputs": [
        {
          "output_type": "stream",
          "name": "stdout",
          "text": [
            "Nhập chiều dài: 5\n",
            "Nhập chiều rộng: 3\n",
            "* * * * * \n",
            "*       * \n",
            "* * * * * \n"
          ]
        }
      ]
    },
    {
      "cell_type": "markdown",
      "source": [
        "# CHUỖI KÝ TỰ"
      ],
      "metadata": {
        "id": "2HCShWrjOpAg"
      }
    },
    {
      "cell_type": "markdown",
      "source": [
        "# Lý thuyết"
      ],
      "metadata": {
        "id": "_V4kWp7rOsnb"
      }
    },
    {
      "cell_type": "markdown",
      "source": [
        "Các toán tử trên chuỗi\n",
        "Nối hai chuỗi"
      ],
      "metadata": {
        "id": "lUUU3nwEN3wm"
      }
    },
    {
      "cell_type": "code",
      "source": [
        "a = 'Py'\n",
        "b = 'thon'\n",
        "print(a+b)\n",
        "x = \"Hello World!\"\n",
        "print(x[:6])\n",
        "print(x[0:6] + \"hello\")"
      ],
      "metadata": {
        "colab": {
          "base_uri": "https://localhost:8080/"
        },
        "id": "Vz74XNmON61c",
        "outputId": "741d3b18-634f-40a8-819b-5ee79eeb5cb8"
      },
      "execution_count": null,
      "outputs": [
        {
          "output_type": "stream",
          "name": "stdout",
          "text": [
            "Python\n",
            "Hello \n",
            "Hello hello\n"
          ]
        }
      ]
    },
    {
      "cell_type": "markdown",
      "source": [
        "Lặp lại chuỗi"
      ],
      "metadata": {
        "id": "Mm7BsmYpOwKc"
      }
    },
    {
      "cell_type": "code",
      "source": [
        "a = 'Py'\n",
        "b = 'thon'\n",
        "print(3*a)\n",
        "print(b*5)\n",
        "print(3*a+5*b)"
      ],
      "metadata": {
        "colab": {
          "base_uri": "https://localhost:8080/"
        },
        "id": "TZgtBfhxO0jr",
        "outputId": "19768e7c-40a8-4cd6-802f-179712811f87"
      },
      "execution_count": null,
      "outputs": [
        {
          "output_type": "stream",
          "name": "stdout",
          "text": [
            "PyPyPy\n",
            "thonthonthonthonthon\n",
            "PyPyPythonthonthonthonthon\n"
          ]
        }
      ]
    },
    {
      "cell_type": "markdown",
      "source": [
        "Toán tử **in** và **not in**"
      ],
      "metadata": {
        "id": "_QNPz4fzPMjz"
      }
    },
    {
      "cell_type": "code",
      "source": [
        "ss = \"hello world\"\n",
        "print(\"l\" in ss)\n",
        "print('l' not in ss)\n",
        "print(\"k\" in ss)\n",
        "print('k' not in ss)\n",
        "print(\"hello\" in ss)\n",
        "print('hello' not in ss)"
      ],
      "metadata": {
        "colab": {
          "base_uri": "https://localhost:8080/"
        },
        "id": "EkVZA_P2PQq9",
        "outputId": "6f7c7bcf-d39f-4105-9cab-db4483822217"
      },
      "execution_count": null,
      "outputs": [
        {
          "output_type": "stream",
          "name": "stdout",
          "text": [
            "True\n",
            "False\n",
            "False\n",
            "True\n",
            "True\n",
            "False\n"
          ]
        }
      ]
    },
    {
      "cell_type": "markdown",
      "source": [
        "# Thực hành\n"
      ],
      "metadata": {
        "id": "5LDOT5tLPyPs"
      }
    },
    {
      "cell_type": "markdown",
      "source": [
        " a) Đếm số lượng ký tự có trong chuỗi"
      ],
      "metadata": {
        "id": "wRzo53WwP0-6"
      }
    },
    {
      "cell_type": "code",
      "source": [
        "s = input(\"Nhập chuỗi: \")\n",
        "tong = 0\n",
        "for ch in s:\n",
        "    tong += s.count(ch) // s.count(ch)\n",
        "print(\"Số lượng ký tự trong chuỗi là:\", tong)"
      ],
      "metadata": {
        "colab": {
          "base_uri": "https://localhost:8080/"
        },
        "id": "Zbc7yrykP3_2",
        "outputId": "7af7682a-2827-4ccf-c5e8-be1f3bb3cc69"
      },
      "execution_count": null,
      "outputs": [
        {
          "output_type": "stream",
          "name": "stdout",
          "text": [
            "Nhập chuỗi: ăn cơm chưa\n",
            "Số lượng ký tự trong chuỗi là: 11\n"
          ]
        }
      ]
    },
    {
      "cell_type": "markdown",
      "source": [
        " b) Đảo Ngược chuỗi"
      ],
      "metadata": {
        "id": "MS4QYANnP5Eb"
      }
    },
    {
      "cell_type": "code",
      "source": [
        "s = input(\"Nhập chuỗi: \")\n",
        "dao = \"\"\n",
        "for ch in s:\n",
        "    dao = ch + dao\n",
        "print(\"Chuỗi đảo ngược là:\", dao)"
      ],
      "metadata": {
        "colab": {
          "base_uri": "https://localhost:8080/"
        },
        "id": "MNEMdm5AP6Pj",
        "outputId": "330c21f8-cd75-4a7e-eafb-b2c562ee423a"
      },
      "execution_count": null,
      "outputs": [
        {
          "output_type": "stream",
          "name": "stdout",
          "text": [
            "Nhập chuỗi: ăn cơm\n",
            "Chuỗi đảo ngược là: mơc nă\n"
          ]
        }
      ]
    },
    {
      "cell_type": "markdown",
      "source": [
        " c) Đếm số từ trong một chuỗi ( Các từ được phân cách bằng khoảng trắng)"
      ],
      "metadata": {
        "id": "X5ssYNLfP6cA"
      }
    },
    {
      "cell_type": "code",
      "source": [
        "s = input(\"Nhập chuỗi: \")\n",
        "tu = s.count(\" \") + 1\n",
        "print(\"Số từ trong chuỗi là:\", tu)"
      ],
      "metadata": {
        "colab": {
          "base_uri": "https://localhost:8080/"
        },
        "id": "nC-1BcLVP7-K",
        "outputId": "2cd6238f-0c8b-4c6e-f550-a577bd5f26cc"
      },
      "execution_count": null,
      "outputs": [
        {
          "output_type": "stream",
          "name": "stdout",
          "text": [
            "Nhập chuỗi: ăn cơm chưa\n",
            "Số từ trong chuỗi là: 3\n"
          ]
        }
      ]
    },
    {
      "cell_type": "markdown",
      "source": [
        " d) Viết hoa ký tự đầu"
      ],
      "metadata": {
        "id": "Z9msertHP8Wq"
      }
    },
    {
      "cell_type": "code",
      "source": [
        "s = input(\"Nhập chuỗi: \")\n",
        "if len(s) > 0:\n",
        "    s_moi = s[0].upper() + s[1:].lower()\n",
        "else:\n",
        "    s_moi = s\n",
        "print(\"Chuỗi sau khi viết hoa ký tự đầu:\", s_moi)"
      ],
      "metadata": {
        "colab": {
          "base_uri": "https://localhost:8080/"
        },
        "id": "rjXap4tvQEgj",
        "outputId": "80feeec6-a8bf-4c5c-8876-8c2f1b03bd4b"
      },
      "execution_count": null,
      "outputs": [
        {
          "output_type": "stream",
          "name": "stdout",
          "text": [
            "Nhập chuỗi: ăn cơm\n",
            "Chuỗi sau khi viết hoa ký tự đầu: Ăn cơm\n"
          ]
        }
      ]
    },
    {
      "cell_type": "markdown",
      "source": [
        " e) Xoá ký tự trùng lặp"
      ],
      "metadata": {
        "id": "y90ZvBzeP9xT"
      }
    },
    {
      "cell_type": "code",
      "source": [
        "s = input(\"Nhập chuỗi: \")\n",
        "kq = \"\"\n",
        "for ch in s:\n",
        "    if ch not in kq:\n",
        "        kq += ch\n",
        "print(\"Chuỗi sau khi xoá ký tự trùng lặp:\", kq)"
      ],
      "metadata": {
        "colab": {
          "base_uri": "https://localhost:8080/"
        },
        "id": "5AnuPDcnQDS9",
        "outputId": "b9fae373-06f2-4ea6-a57e-589ff6e43882"
      },
      "execution_count": null,
      "outputs": [
        {
          "output_type": "stream",
          "name": "stdout",
          "text": [
            "Nhập chuỗi: ănn cơm không\n",
            "Chuỗi sau khi xoá ký tự trùng lặp: ăn cơmkhôg\n"
          ]
        }
      ]
    },
    {
      "cell_type": "markdown",
      "source": [
        " f)\n",
        " Viết hoa các kí tự thường và viết thường các kí tự hoa."
      ],
      "metadata": {
        "id": "udY4geHwQFJq"
      }
    },
    {
      "cell_type": "code",
      "source": [
        "s = input(\"Nhập chuỗi: \")\n",
        "kq = \"\"\n",
        "for ch in s:\n",
        "    if 'a' <= ch <= 'z':\n",
        "        kq += chr(ord(ch) - 32)\n",
        "    elif 'A' <= ch <= 'Z':\n",
        "        kq += chr(ord(ch) + 32)\n",
        "    else:\n",
        "        kq += ch\n",
        "print(\"Chuỗi sau khi đổi:\", kq)"
      ],
      "metadata": {
        "colab": {
          "base_uri": "https://localhost:8080/"
        },
        "id": "gErBmFeKQHD6",
        "outputId": "f0970e1b-d789-4e46-ecec-5e4095351c20"
      },
      "execution_count": null,
      "outputs": [
        {
          "output_type": "stream",
          "name": "stdout",
          "text": [
            "Nhập chuỗi: Ăn cơm\n",
            "Chuỗi sau khi đổi: ĂN CơM\n"
          ]
        }
      ]
    },
    {
      "cell_type": "markdown",
      "source": [
        " g) Đến số kí tự thường và ký tự hoa."
      ],
      "metadata": {
        "id": "Af3FnzY_QHTS"
      }
    },
    {
      "cell_type": "code",
      "source": [
        "s = input(\"Nhập chuỗi: \")\n",
        "dem_thuong = 0\n",
        "dem_hoa = 0\n",
        "for ch in s:\n",
        "    if ch.islower():\n",
        "        dem_thuong += 1\n",
        "    elif ch.isupper():\n",
        "        dem_hoa += 1\n",
        "print(\"Số ký tự thường:\", dem_thuong)\n",
        "print(\"Số ký tự hoa:\", dem_hoa)"
      ],
      "metadata": {
        "colab": {
          "base_uri": "https://localhost:8080/"
        },
        "id": "efeRxCtcQJBE",
        "outputId": "cd6f7aa2-a479-4544-95f6-b3d891c04641"
      },
      "execution_count": null,
      "outputs": [
        {
          "output_type": "stream",
          "name": "stdout",
          "text": [
            "Nhập chuỗi: ăn cơn Trưa\n",
            "Số ký tự thường: 8\n",
            "Số ký tự hoa: 1\n"
          ]
        }
      ]
    },
    {
      "cell_type": "markdown",
      "source": [
        " h) Xoá các khoảng trắng ở đầu và cuối"
      ],
      "metadata": {
        "id": "nUfQdC2dQJQi"
      }
    },
    {
      "cell_type": "code",
      "source": [
        "s = input(\"Nhập chuỗi: \")\n",
        "while len(s) > 0 and s[0] == \" \":\n",
        "    s = s[1:]\n",
        "while len(s) > 0 and s[-1] == \" \":\n",
        "    s = s[:-1]\n",
        "print(\"Chuỗi sau khi xóa khoảng trắng:\", s)"
      ],
      "metadata": {
        "colab": {
          "base_uri": "https://localhost:8080/"
        },
        "id": "MKv85U5GQKm0",
        "outputId": "c059b483-c91f-4e95-8c13-469a910911f2"
      },
      "execution_count": null,
      "outputs": [
        {
          "output_type": "stream",
          "name": "stdout",
          "text": [
            "Nhập chuỗi: ăn cơm\n",
            "Chuỗi sau khi xóa khoảng trắng: ăn cơm\n"
          ]
        }
      ]
    }
  ]
}