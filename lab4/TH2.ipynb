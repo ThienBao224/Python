{
  "nbformat": 4,
  "nbformat_minor": 0,
  "metadata": {
    "colab": {
      "provenance": [],
      "authorship_tag": "ABX9TyPcvmz6kB5B85+3+0N3zHVZ",
      "include_colab_link": true
    },
    "kernelspec": {
      "name": "python3",
      "display_name": "Python 3"
    },
    "language_info": {
      "name": "python"
    }
  },
  "cells": [
    {
      "cell_type": "markdown",
      "metadata": {
        "id": "view-in-github",
        "colab_type": "text"
      },
      "source": [
        "<a href=\"https://colab.research.google.com/github/ThienBao224/Python/blob/main/TH2.ipynb\" target=\"_parent\"><img src=\"https://colab.research.google.com/assets/colab-badge.svg\" alt=\"Open In Colab\"/></a>"
      ]
    },
    {
      "cell_type": "markdown",
      "source": [
        "# Homework 2"
      ],
      "metadata": {
        "id": "DHdlRCade35-"
      }
    },
    {
      "cell_type": "markdown",
      "source": [
        "## A."
      ],
      "metadata": {
        "id": "P5OrKQdze5V1"
      }
    },
    {
      "cell_type": "markdown",
      "source": [
        "### 1. Cho x = 8 và y = 2. Cho biết kết quả các lệnh sau:"
      ],
      "metadata": {
        "id": "oFWCdOIte-Wr"
      }
    },
    {
      "cell_type": "markdown",
      "source": [
        "a. x + y * 3\n",
        "\n",
        "b. (x + y) * 3\n",
        "\n",
        "c. x ** y\n",
        "\n",
        "d. x % y\n",
        "\n",
        "e. x / 12.0\n",
        "\n",
        "f. x // 6\n"
      ],
      "metadata": {
        "id": "LT7YchuJfJ1T"
      }
    },
    {
      "cell_type": "code",
      "execution_count": 1,
      "metadata": {
        "colab": {
          "base_uri": "https://localhost:8080/"
        },
        "id": "5W5DFm39eWMa",
        "outputId": "8a20a490-3b98-4e93-9c43-f6104e3c5348"
      },
      "outputs": [
        {
          "output_type": "stream",
          "name": "stdout",
          "text": [
            "1a: 14\n",
            "1b: 30\n",
            "1c: 64\n",
            "1d: 0\n",
            "1e: 0.6666666666666666\n",
            "1f: 1\n"
          ]
        }
      ],
      "source": [
        "x, y = 8, 2\n",
        "#a\n",
        "print(\"1a:\", x + y * 3)\n",
        "\n",
        "#b\n",
        "print(\"1b:\", (x + y) * 3)\n",
        "\n",
        "#c\n",
        "print(\"1c:\", x ** y)\n",
        "\n",
        "#d\n",
        "print(\"1d:\", x % y)\n",
        "\n",
        "#e\n",
        "print(\"1e:\", x / 12.0)\n",
        "\n",
        "#f\n",
        "print(\"1f:\", x // 6)"
      ]
    },
    {
      "cell_type": "markdown",
      "source": [
        "2. Cho x = 54.66. Cho biết kết quả các câu lệnh sau:"
      ],
      "metadata": {
        "id": "Tj7c_0trfA8N"
      }
    },
    {
      "cell_type": "markdown",
      "source": [
        "a. round(x)\n",
        "\n",
        "b. int(x)\n"
      ],
      "metadata": {
        "id": "2BgnoRJHfh9y"
      }
    },
    {
      "cell_type": "code",
      "source": [
        "x = 54.66\n",
        "#a\n",
        "print(\"2a:\", round(x))\n",
        "\n",
        "#b\n",
        "print(\"2b:\", int(x))"
      ],
      "metadata": {
        "colab": {
          "base_uri": "https://localhost:8080/"
        },
        "id": "BC7Tw3Zeff0e",
        "outputId": "e246423b-39e8-4980-cd9a-8918e0c3b199"
      },
      "execution_count": 2,
      "outputs": [
        {
          "output_type": "stream",
          "name": "stdout",
          "text": [
            "2a: 55\n",
            "2b: 54\n"
          ]
        }
      ]
    },
    {
      "cell_type": "markdown",
      "source": [
        "## B."
      ],
      "metadata": {
        "id": "DRkC6P52e7p7"
      }
    },
    {
      "cell_type": "code",
      "source": [
        "#import thư viện\n",
        "import math"
      ],
      "metadata": {
        "id": "1i-onu9Df3Pr"
      },
      "execution_count": 3,
      "outputs": []
    },
    {
      "cell_type": "markdown",
      "source": [
        "### 1. Viết chương trình nhập vào một số nguyên n. Kiểm tra xem số đó có phải là số nguyên tố, số đối xứng, số hoàn chỉnh, số chính phương hay không?"
      ],
      "metadata": {
        "id": "Mus5C_dufnnM"
      }
    },
    {
      "cell_type": "code",
      "source": [
        "def ngto(n):\n",
        "    if n < 2: return False\n",
        "    for i in range(2, int(math.sqrt(n)) + 1):\n",
        "        if n % i == 0: return False\n",
        "    return True\n",
        "\n",
        "def doixung(n):\n",
        "    return str(n) == str(n)[::-1]\n",
        "\n",
        "def hoanchinh(n):\n",
        "    return sum(i for i in range(1, n) if n % i == 0) == n\n",
        "\n",
        "def chinhphuong(n):\n",
        "    return int(math.sqrt(n))**2 == n\n",
        "\n",
        "n = int(input(\"Nhập số nguyên n: \"))\n",
        "print(\"Số nguyên tố:\", ngto(n))\n",
        "print(\"Số đối xứng:\", doixung(n))\n",
        "print(\"Số hoàn chỉnh:\", hoanchinh(n))\n",
        "print(\"Số chính phương:\", chinhphuong(n))\n"
      ],
      "metadata": {
        "colab": {
          "base_uri": "https://localhost:8080/"
        },
        "id": "PvyTfknhfu66",
        "outputId": "7b6b0f67-6c3a-4996-cb31-fe68285257c5"
      },
      "execution_count": 5,
      "outputs": [
        {
          "output_type": "stream",
          "name": "stdout",
          "text": [
            "Nhập số nguyên n: 3\n",
            "Số nguyên tố: True\n",
            "Số đối xứng: True\n",
            "Số hoàn chỉnh: False\n",
            "Số chính phương: False\n"
          ]
        }
      ]
    },
    {
      "cell_type": "markdown",
      "source": [
        "### 2. Viết chương trình nhập vào hai số M, N. In ra tất cả các số nguyên tố, số đối xứng, số hoàn chỉnh, số chính phương trong khoảng [M,N] (nếu có)"
      ],
      "metadata": {
        "id": "MDFTANysfqk0"
      }
    },
    {
      "cell_type": "code",
      "source": [
        "M = int(input(\"Nhập M: \"))\n",
        "N = int(input(\"Nhập N: \"))\n",
        "while M >= N:\n",
        "    print(\"3M phải nhỏ hơn N. Vui lòng nhập lại!\")\n",
        "    M = int(input(\"Nhập M: \"))\n",
        "    N = int(input(\"Nhập N: \"))\n",
        "\n",
        "for num in range(M, N+1):\n",
        "    if ngto(num): print(num, \"là số nguyên tố\")\n",
        "    if doixung(num): print(num, \"là số đối xứng\")\n",
        "    if hoanchinh(num): print(num, \"là số hoàn chỉnh\")\n",
        "    if chinhphuong(num): print(num, \"là số chính phương\")"
      ],
      "metadata": {
        "colab": {
          "base_uri": "https://localhost:8080/"
        },
        "id": "4s5tx0KdgRQz",
        "outputId": "21c7ea6c-90e5-4490-c218-784a9f6edbc0"
      },
      "execution_count": 6,
      "outputs": [
        {
          "output_type": "stream",
          "name": "stdout",
          "text": [
            "Nhập M: 2\n",
            "Nhập N: 50\n",
            "2 là số nguyên tố\n",
            "2 là số đối xứng\n",
            "3 là số nguyên tố\n",
            "3 là số đối xứng\n",
            "4 là số đối xứng\n",
            "4 là số chính phương\n",
            "5 là số nguyên tố\n",
            "5 là số đối xứng\n",
            "6 là số đối xứng\n",
            "6 là số hoàn chỉnh\n",
            "7 là số nguyên tố\n",
            "7 là số đối xứng\n",
            "8 là số đối xứng\n",
            "9 là số đối xứng\n",
            "9 là số chính phương\n",
            "11 là số nguyên tố\n",
            "11 là số đối xứng\n",
            "13 là số nguyên tố\n",
            "16 là số chính phương\n",
            "17 là số nguyên tố\n",
            "19 là số nguyên tố\n",
            "22 là số đối xứng\n",
            "23 là số nguyên tố\n",
            "25 là số chính phương\n",
            "28 là số hoàn chỉnh\n",
            "29 là số nguyên tố\n",
            "31 là số nguyên tố\n",
            "33 là số đối xứng\n",
            "36 là số chính phương\n",
            "37 là số nguyên tố\n",
            "41 là số nguyên tố\n",
            "43 là số nguyên tố\n",
            "44 là số đối xứng\n",
            "47 là số nguyên tố\n",
            "49 là số chính phương\n"
          ]
        }
      ]
    },
    {
      "cell_type": "markdown",
      "source": [
        "### 3. Tìm ước chung lớn nhất và bội số chung nhỏ nhất của hai số a và b"
      ],
      "metadata": {
        "id": "wtfnNdcVhCCh"
      }
    },
    {
      "cell_type": "markdown",
      "source": [
        "a. không dùng đệ quy"
      ],
      "metadata": {
        "id": "lKQ45CoxhGsM"
      }
    },
    {
      "cell_type": "code",
      "source": [
        "def gcd(a, b):\n",
        "    while b != 0:\n",
        "        a, b = b, a % b\n",
        "    return a\n",
        "\n",
        "def lcm(a, b):\n",
        "    return a * b // gcd(a, b)\n",
        "\n",
        "a = int(input(\"Nhập a: \"))\n",
        "b = int(input(\"Nhập b: \"))\n",
        "print(\"UCLN:\", gcd(a, b))\n",
        "print(\"BCNN:\", lcm(a, b))"
      ],
      "metadata": {
        "colab": {
          "base_uri": "https://localhost:8080/"
        },
        "id": "C5Is3KB-hR_T",
        "outputId": "891ae084-e7be-4d4e-9059-1b73cb265a5e"
      },
      "execution_count": 7,
      "outputs": [
        {
          "output_type": "stream",
          "name": "stdout",
          "text": [
            "Nhập a: 5\n",
            "Nhập b: 20\n",
            "UCLN: 5\n",
            "BCNN: 20\n"
          ]
        }
      ]
    },
    {
      "cell_type": "markdown",
      "source": [
        "b. dùng đệ quy"
      ],
      "metadata": {
        "id": "XOJO7FUYhFgT"
      }
    },
    {
      "cell_type": "code",
      "source": [
        "def gcd_dq(a, b):\n",
        "    return a if b == 0 else gcd_dq(b, a % b)\n",
        "\n",
        "def lcm_dq(a, b):\n",
        "    return a * b // gcd_dq(a, b)\n",
        "\n",
        "print(\"UCLN:\", gcd_dq(a, b))\n",
        "print(\"BCNN:\", lcm_dq(a, b))\n"
      ],
      "metadata": {
        "colab": {
          "base_uri": "https://localhost:8080/"
        },
        "id": "rgPt8kB5hYep",
        "outputId": "20698e0e-dd47-42e9-b8f2-e6741ec080e4"
      },
      "execution_count": 8,
      "outputs": [
        {
          "output_type": "stream",
          "name": "stdout",
          "text": [
            "UCLN: 5\n",
            "BCNN: 20\n"
          ]
        }
      ]
    },
    {
      "cell_type": "markdown",
      "source": [
        "### 4. Liệt kê tất cả các số nguyên tố nhỏ hơn N ( N nhập từ bàn phím)"
      ],
      "metadata": {
        "id": "BjVoR-OrhkQa"
      }
    },
    {
      "cell_type": "code",
      "source": [
        "N = int(input(\"Nhập N: \"))\n",
        "for i in range(2, N):\n",
        "    if ngto(i):\n",
        "        print(i, end=\" \")"
      ],
      "metadata": {
        "colab": {
          "base_uri": "https://localhost:8080/"
        },
        "id": "4QDMoOsChpvS",
        "outputId": "3d845c7a-a4d9-497c-fb8e-afce2a61d497"
      },
      "execution_count": 9,
      "outputs": [
        {
          "output_type": "stream",
          "name": "stdout",
          "text": [
            "Nhập N: 5\n",
            "2 3 "
          ]
        }
      ]
    },
    {
      "cell_type": "markdown",
      "source": [
        "### 5. In ra màn hình M số nguyên tố đầu tiên"
      ],
      "metadata": {
        "id": "Ex0Utl2Qhvow"
      }
    },
    {
      "cell_type": "code",
      "source": [
        "M = int(input(\"Nhập M: \"))\n",
        "count=0\n",
        "num=2\n",
        "while count < M:\n",
        "    if ngto(num):\n",
        "        print(num, end=\" \")\n",
        "        count += 1\n",
        "    num += 1"
      ],
      "metadata": {
        "colab": {
          "base_uri": "https://localhost:8080/"
        },
        "id": "T6CUit0mhyzS",
        "outputId": "a4308e1c-d972-4594-d8a3-bba7541c347b"
      },
      "execution_count": 10,
      "outputs": [
        {
          "output_type": "stream",
          "name": "stdout",
          "text": [
            "Nhập M: 20\n",
            "2 3 5 7 11 13 17 19 23 29 31 37 41 43 47 53 59 61 67 71 "
          ]
        }
      ]
    },
    {
      "cell_type": "markdown",
      "source": [
        "### 6. Tìm tất cả các số chia hết cho 7 nhưng không phải bội số của 5, nằm trong đoạn [99;999] (tính cả 99 và 999)"
      ],
      "metadata": {
        "id": "FV9cFyEAiDkp"
      }
    },
    {
      "cell_type": "code",
      "source": [
        "for i in range(99, 1000):\n",
        "    if i % 7 == 0 and i % 5 != 0:\n",
        "        print(i, end=\" \")"
      ],
      "metadata": {
        "colab": {
          "base_uri": "https://localhost:8080/"
        },
        "id": "T3FMGITdi7rA",
        "outputId": "24e8ea4d-0b69-4fce-ac42-4b46935fac14"
      },
      "execution_count": 11,
      "outputs": [
        {
          "output_type": "stream",
          "name": "stdout",
          "text": [
            "112 119 126 133 147 154 161 168 182 189 196 203 217 224 231 238 252 259 266 273 287 294 301 308 322 329 336 343 357 364 371 378 392 399 406 413 427 434 441 448 462 469 476 483 497 504 511 518 532 539 546 553 567 574 581 588 602 609 616 623 637 644 651 658 672 679 686 693 707 714 721 728 742 749 756 763 777 784 791 798 812 819 826 833 847 854 861 868 882 889 896 903 917 924 931 938 952 959 966 973 987 994 "
          ]
        }
      ]
    },
    {
      "cell_type": "markdown",
      "source": [
        "### 7. Tìm số đầu tiên chia hết cho 9 và chia hết cho 7 nằm trong đoạn [M,N]"
      ],
      "metadata": {
        "id": "8jJMn2ISiaw6"
      }
    },
    {
      "cell_type": "code",
      "source": [
        "M = int(input(\"Nhập M: \"))\n",
        "N = int(input(\"Nhập N: \"))\n",
        "\n",
        "found = False\n",
        "while M >= N:\n",
        "    print(\"3M phải nhỏ hơn N. Vui lòng nhập lại!\")\n",
        "    M = int(input(\"Nhập M: \"))\n",
        "    N = int(input(\"Nhập N: \"))\n",
        "\n",
        "for i in range(M, N+1):\n",
        "    if i % 63 == 0:\n",
        "        print(\"Số đầu tiên chia hết cho 7 và 9 là:\", i)\n",
        "        found = True\n",
        "        break\n",
        "\n",
        "if not found:\n",
        "    print(\"Không có số nào thỏa trong đoạn.\")\n"
      ],
      "metadata": {
        "colab": {
          "base_uri": "https://localhost:8080/"
        },
        "id": "HxJ21GRijhwH",
        "outputId": "7479e42d-2b79-4b23-beb2-f62641a5600b"
      },
      "execution_count": 12,
      "outputs": [
        {
          "output_type": "stream",
          "name": "stdout",
          "text": [
            "Nhập M: 5\n",
            "Nhập N: 120\n",
            "Số đầu tiên chia hết cho 7 và 9 là: 63\n"
          ]
        }
      ]
    },
    {
      "cell_type": "markdown",
      "source": [
        "### 8. Nhập một số nguyên, đếm xem số đó có bao nhiêu chữ số và tính tổng các chữ số."
      ],
      "metadata": {
        "id": "ijQE3bukiero"
      }
    },
    {
      "cell_type": "code",
      "source": [
        "n = int(input(\"Nhập số nguyên: \"))\n",
        "count, s = 0, 0\n",
        "temp = n\n",
        "while temp > 0:\n",
        "    digit = temp % 10\n",
        "    s += digit\n",
        "    count += 1\n",
        "    temp //= 10\n",
        "print(\"Số chữ số:\", count)\n",
        "print(\"Tổng chữ số:\", s)\n"
      ],
      "metadata": {
        "colab": {
          "base_uri": "https://localhost:8080/"
        },
        "id": "VyRTwzujiuKA",
        "outputId": "1a09cd0e-055a-4250-ef44-17a0622b6809"
      },
      "execution_count": 13,
      "outputs": [
        {
          "output_type": "stream",
          "name": "stdout",
          "text": [
            "Nhập số nguyên: 1552\n",
            "Số chữ số: 4\n",
            "Tổng chữ số: 13\n"
          ]
        }
      ]
    },
    {
      "cell_type": "markdown",
      "source": [
        "# 9. Viết chương trình tính lũy thừa nhanh $a^n$ dùng đệ quy và chia để trị (fast power using recursion, divide and conquer)"
      ],
      "metadata": {
        "id": "3j_wh9iligsI"
      }
    },
    {
      "cell_type": "markdown",
      "source": [
        "Đệ quy"
      ],
      "metadata": {
        "id": "f_DeophLwkUv"
      }
    },
    {
      "cell_type": "code",
      "source": [
        "def dequy(a, n):\n",
        "    if n == 0:\n",
        "        return 1\n",
        "    half = dequy(a, n // 2)\n",
        "    if n % 2 == 0:\n",
        "        return half * half\n",
        "    else:\n",
        "        return a * half * half\n",
        "\n",
        "a = int(input(\"Nhập cơ số a: \"))\n",
        "n = int(input(\"Nhập số mũ n: \"))\n",
        "print(f\"{a}^{n}=\", dequy(a, n))"
      ],
      "metadata": {
        "colab": {
          "base_uri": "https://localhost:8080/"
        },
        "id": "ixBoN1Mdwbmx",
        "outputId": "f8325df0-4ff8-479b-9af1-07144d645d3e"
      },
      "execution_count": 19,
      "outputs": [
        {
          "output_type": "stream",
          "name": "stdout",
          "text": [
            "Nhập cơ số a: 2\n",
            "Nhập số mũ n: 9\n",
            "2^9= 512\n"
          ]
        }
      ]
    },
    {
      "cell_type": "markdown",
      "source": [
        "chia để trị"
      ],
      "metadata": {
        "id": "cBWL-klGwnjR"
      }
    },
    {
      "cell_type": "code",
      "source": [
        "def chiadetri(a, n):\n",
        "    result = 1\n",
        "    base = a\n",
        "    exp = n\n",
        "    while exp > 0:\n",
        "        if exp % 2 == 1:\n",
        "            result *= base\n",
        "        base *= base\n",
        "        exp //= 2\n",
        "    return result\n",
        "\n",
        "a = int(input(\"Nhập cơ số a: \"))\n",
        "n = int(input(\"Nhập số mũ n: \"))\n",
        "print(f\"{a}^{n} (vòng lặp) =\", chiadetri(a, n))"
      ],
      "metadata": {
        "colab": {
          "base_uri": "https://localhost:8080/"
        },
        "id": "LQ4ILOrNwqNh",
        "outputId": "dc758d4f-b8cc-463b-d473-d1e4def262d2"
      },
      "execution_count": 20,
      "outputs": [
        {
          "output_type": "stream",
          "name": "stdout",
          "text": [
            "Nhập cơ số a: 2\n",
            "Nhập số mũ n: 8\n",
            "2^8 (vòng lặp) = 256\n"
          ]
        }
      ]
    },
    {
      "cell_type": "markdown",
      "source": [
        "### 10. Viết chương trình nhập vào một số nguyên dương n. In ra từng chữ số trong n. Yêu cầu không dùng các hàm trong xử lý chuỗi"
      ],
      "metadata": {
        "id": "5x-sa86zixHw"
      }
    },
    {
      "cell_type": "code",
      "source": [
        "n = int(input(\"Nhập số nguyên dương n: \"))\n",
        "while n <= 0:\n",
        "    print(\"Vui lòng nhập số nguyên dương!\")\n",
        "    n = int(input(\"Nhập số nguyên dương n: \"))\n",
        "\n",
        "digits = []\n",
        "while n > 0:\n",
        "    digits.append(n % 10)\n",
        "    n //= 10\n",
        "\n",
        "digits.reverse()\n",
        "for d in digits:\n",
        "    print(d, end=\" \")"
      ],
      "metadata": {
        "colab": {
          "base_uri": "https://localhost:8080/"
        },
        "id": "x-Lssi9Qi0j4",
        "outputId": "e7c8b851-bbdf-4558-bd32-f459455aeeed"
      },
      "execution_count": 21,
      "outputs": [
        {
          "output_type": "stream",
          "name": "stdout",
          "text": [
            "Nhập số nguyên dương n: 157\n",
            "1 5 7 "
          ]
        }
      ]
    }
  ]
}
