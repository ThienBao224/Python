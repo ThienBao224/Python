{
  "nbformat": 4,
  "nbformat_minor": 0,
  "metadata": {
    "colab": {
      "provenance": [],
      "authorship_tag": "ABX9TyM9YUMILN7wH9wMgrGzoPK0",
      "include_colab_link": true
    },
    "kernelspec": {
      "name": "python3",
      "display_name": "Python 3"
    },
    "language_info": {
      "name": "python"
    }
  },
  "cells": [
    {
      "cell_type": "markdown",
      "metadata": {
        "id": "view-in-github",
        "colab_type": "text"
      },
      "source": [
        "<a href=\"https://colab.research.google.com/github/ThienBao224/Python/blob/main/TH6_Numpy.ipynb\" target=\"_parent\"><img src=\"https://colab.research.google.com/assets/colab-badge.svg\" alt=\"Open In Colab\"/></a>"
      ]
    },
    {
      "cell_type": "markdown",
      "source": [
        "# Homework 5: Numpy"
      ],
      "metadata": {
        "id": "YsNwUnC4lRMl"
      }
    },
    {
      "cell_type": "code",
      "source": [
        "#Khai báo thư viện\n",
        "import numpy as np\n",
        "import math"
      ],
      "metadata": {
        "id": "xNZ3ZzLSl4_F"
      },
      "execution_count": null,
      "outputs": []
    },
    {
      "cell_type": "markdown",
      "source": [
        "## A. Mảng một chiều"
      ],
      "metadata": {
        "id": "J_wr2lzOlX8M"
      }
    },
    {
      "cell_type": "markdown",
      "source": [
        "### 1. Khởi tạo một mảng một chiều x có dạng sau [1, 2, 3, 4, 5, 6, 7, 8, 9, 10]."
      ],
      "metadata": {
        "id": "dLogzBjKlmNV"
      }
    },
    {
      "cell_type": "code",
      "execution_count": null,
      "metadata": {
        "colab": {
          "base_uri": "https://localhost:8080/"
        },
        "id": "pda-tfvxlPs3",
        "outputId": "8c3a79cc-a65c-4cdf-80b7-2b78fd6182be"
      },
      "outputs": [
        {
          "output_type": "stream",
          "name": "stdout",
          "text": [
            "a)Kiểu dữ liệu phần tử: int64\n",
            "--------------------\n",
            "b)Kích thước của mảng: (10,)\n",
            "--------------------\n",
            "c)Tính mảng y và z:\n",
            "y = [ 0.57079633 -0.42920367 -1.42920367 -2.42920367 -3.42920367 -4.42920367\n",
            " -5.42920367 -6.42920367 -7.42920367 -8.42920367]\n",
            "z = [-0.30116868 -1.32544426 -1.1311125   0.10315887  1.24258646  1.23958578\n",
            "  0.09691566 -1.13485828 -1.32324875 -0.29505042]\n",
            "--------------------\n",
            "d)Tìm những số chẵn/lẻ/số nguyên tố trong mảng: \n",
            "Số chẵn: [ 2  4  6  8 10]\n",
            "Số lẻ: [1 3 5 7 9]\n",
            "Số nguyên tố: [2 3 5 7]\n",
            "--------------------\n",
            "e)Mảng thay thế: [-2 -1 -2 -1 -2 -1 -2 -1 -2 -1]\n"
          ]
        }
      ],
      "source": [
        "x = np.array([1,2,3,4,5,6,7,8,9,10])\n",
        "\n",
        "# a) Kiểm tra kiểu dữ liệu của phần tử\n",
        "print(\"a)Kiểu dữ liệu phần tử:\", x.dtype)\n",
        "print(\"-\"*20)\n",
        "# b) Kích thước mảng\n",
        "print(\"b)Kích thước của mảng:\", x.shape)\n",
        "print(\"-\"*20)\n",
        "# c) Tính y và z\n",
        "y = (math.pi / 2) - x\n",
        "z = np.cos(x) - np.sin(x)\n",
        "print(\"c)Tính mảng y và z:\")\n",
        "print(\"y =\", y)\n",
        "print(\"z =\", z)\n",
        "print(\"-\"*20)\n",
        "# d) Tìm số chẵn, số lẻ, số nguyên tố\n",
        "chan = x[x % 2 == 0]\n",
        "le = x[x % 2 != 0]\n",
        "\n",
        "def ngto(n):\n",
        "    if n < 2: return False\n",
        "    for i in range(2, int(n**0.5)+1):\n",
        "        if n % i == 0: return False\n",
        "    return True\n",
        "\n",
        "nguyento = np.array([i for i in x if ngto(i)])\n",
        "print(\"d)Tìm những số chẵn/lẻ/số nguyên tố trong mảng: \")\n",
        "print(\"Số chẵn:\", chan)\n",
        "print(\"Số lẻ:\", le)\n",
        "print(\"Số nguyên tố:\", nguyento)\n",
        "print(\"-\"*20)\n",
        "# e) Thay thế số chẵn = -1, số lẻ = -2\n",
        "thay_the = np.where(x % 2 == 0, -1, -2)\n",
        "print(\"e)Mảng thay thế:\", thay_the)\n"
      ]
    },
    {
      "cell_type": "markdown",
      "source": [
        "### 2. Tạo ra mảng một chiều, tìm min và max của mảng, tìm argmin, argmax (tìm chỉ số mà tại đó mảng một chiều đạt giá trị nhỏ nhất hay lớn nhất,)"
      ],
      "metadata": {
        "id": "Fz1kCb9LlpUd"
      }
    },
    {
      "cell_type": "code",
      "source": [
        "n = int(input(\"Nhập số phần tử của mảng: \"))\n",
        "arr = []\n",
        "for i in range(n):\n",
        "    val = int(input(f\"Nhập phần tử thứ {i+1}: \"))\n",
        "    arr.append(val)\n",
        "arr = np.array(arr)\n",
        "\n",
        "print(\"Mảng vừa nhập:\", arr)\n",
        "print(\"Min:\", arr.min())\n",
        "print(\"Max:\", arr.max())\n",
        "print(\"argmin (vị trí min):\", arr.argmin())\n",
        "print(\"argmax (vị trí max):\", arr.argmax())"
      ],
      "metadata": {
        "colab": {
          "base_uri": "https://localhost:8080/"
        },
        "id": "rU11f8WKm828",
        "outputId": "67f8f448-68cc-4451-e1c1-1121dad50b1a"
      },
      "execution_count": null,
      "outputs": [
        {
          "output_type": "stream",
          "name": "stdout",
          "text": [
            "Nhập số phần tử của mảng: 3\n",
            "Nhập phần tử thứ 1: 2\n",
            "Nhập phần tử thứ 2: 7\n",
            "Nhập phần tử thứ 3: 8\n",
            "Mảng vừa nhập: [2 7 8]\n",
            "Min: 2\n",
            "Max: 8\n",
            "argmin (vị trí min): 0\n",
            "argmax (vị trí max): 2\n"
          ]
        }
      ]
    },
    {
      "cell_type": "markdown",
      "source": [
        "### 3. Cho 2 mảng 1 chiều như sau :"
      ],
      "metadata": {
        "id": "-teexZsPluoV"
      }
    },
    {
      "cell_type": "markdown",
      "source": [
        "a = np.array([1,2,3,2,3,4,3,4,5,6])\n",
        "\n",
        "b = np.array([7,2,10,2,7,4,9,4,9,8])"
      ],
      "metadata": {
        "id": "K62Wk3mtlwic"
      }
    },
    {
      "cell_type": "markdown",
      "source": [
        "Tìm các phần tử xuất hiện ở cả hai mảng. Ví dụ kết quả là : array([2, 4])\n"
      ],
      "metadata": {
        "id": "N0p-ierTlzDz"
      }
    },
    {
      "cell_type": "markdown",
      "source": [
        "a) Dùng hàm np.intersect1d()"
      ],
      "metadata": {
        "id": "QRdeHZkenZ5p"
      }
    },
    {
      "cell_type": "code",
      "source": [
        "a = np.array([1,2,3,2,3,4,3,4,5,6])\n",
        "b = np.array([7,2,10,2,7,4,9,4,9,8])\n",
        "print(\"Phần tử chung:\", np.intersect1d(a, b))"
      ],
      "metadata": {
        "colab": {
          "base_uri": "https://localhost:8080/"
        },
        "id": "aKZXHCJDneX8",
        "outputId": "40d8fddd-78ce-46bc-aea6-1f72bbc91acd"
      },
      "execution_count": null,
      "outputs": [
        {
          "output_type": "stream",
          "name": "stdout",
          "text": [
            "Phần tử chung: [2 4]\n"
          ]
        }
      ]
    },
    {
      "cell_type": "markdown",
      "source": [
        "b) Không sử dụng hàm trên"
      ],
      "metadata": {
        "id": "wyQo9MFNnbtD"
      }
    },
    {
      "cell_type": "code",
      "source": [
        "ptchung = np.array([i for i in np.unique(a) if i in b])\n",
        "print(\"Phần tử chung:\", ptchung)"
      ],
      "metadata": {
        "colab": {
          "base_uri": "https://localhost:8080/"
        },
        "id": "1tvNH_VinnRy",
        "outputId": "1fcdb2c0-6fee-4019-a2e5-1b94b1640f16"
      },
      "execution_count": null,
      "outputs": [
        {
          "output_type": "stream",
          "name": "stdout",
          "text": [
            "Phần tử chung: [2 4]\n"
          ]
        }
      ]
    },
    {
      "cell_type": "markdown",
      "source": [
        "### 4. Cho mảng 1 chiều a = np.array([2, 6, 1, 9, 10, 3, 27]). Tìm những giá trị lớn hơn 5 và nhỏ hơn 10."
      ],
      "metadata": {
        "id": "5hhMrA4NnXcb"
      }
    },
    {
      "cell_type": "code",
      "source": [
        "a = np.array([2, 6, 1, 9, 10, 3, 27])\n",
        "print(\"Mảng a:\", a)\n",
        "\n",
        "ketqua = a[(a > 5) & (a < 10)]\n",
        "print(\"Các giá trị >5 và <10:\", ketqua)"
      ],
      "metadata": {
        "colab": {
          "base_uri": "https://localhost:8080/"
        },
        "id": "XkYlptOQnp1q",
        "outputId": "db0b613e-6c8a-4f17-f3ce-66844751676a"
      },
      "execution_count": null,
      "outputs": [
        {
          "output_type": "stream",
          "name": "stdout",
          "text": [
            "Mảng a: [ 2  6  1  9 10  3 27]\n",
            "Các giá trị >5 và <10: [6 9]\n"
          ]
        }
      ]
    },
    {
      "cell_type": "markdown",
      "source": [
        "## B. Mảng 2 chiều (ma trận)"
      ],
      "metadata": {
        "id": "U4ImnSX8liM0"
      }
    },
    {
      "cell_type": "markdown",
      "source": [
        "### 1. Nhập vào một số nguyên dương n (n>2). Tạo một ma trận kích thước nxn, trong đó các phần tử ở bên có giá trị 1, các phần tử bên trong có giá trị là 0. Ví dụ n = 10 ma trận có dạng sau:\n"
      ],
      "metadata": {
        "id": "fiQSZvWeoHGK"
      }
    },
    {
      "cell_type": "code",
      "source": [
        "n = int(input(\"Nhập số nguyên dương n (n > 2): \"))\n",
        "if n <= 2:\n",
        "    print(\"n phải lớn hơn 2\")\n",
        "else:\n",
        "    mat = np.zeros((n, n), dtype=int)\n",
        "    mat[0, :] = 1\n",
        "    mat[-1, :] = 1\n",
        "    mat[:, 0] = 1\n",
        "    mat[:, -1] = 1\n",
        "\n",
        "    print(\"Ma trận:\")\n",
        "    for row in mat:\n",
        "        print(\" \".join(map(str, row)))"
      ],
      "metadata": {
        "colab": {
          "base_uri": "https://localhost:8080/"
        },
        "id": "yDh5QUEkoFdb",
        "outputId": "46abf4c7-9dd0-4dc4-e1fc-043c2b5d4d6b"
      },
      "execution_count": null,
      "outputs": [
        {
          "output_type": "stream",
          "name": "stdout",
          "text": [
            "Nhập số nguyên dương n (n > 2): 3\n",
            "Ma trận:\n",
            "1 1 1\n",
            "1 0 1\n",
            "1 1 1\n"
          ]
        }
      ]
    },
    {
      "cell_type": "markdown",
      "source": [
        "### 2. Tạo một ma trận có kích thước 3x5."
      ],
      "metadata": {
        "id": "UK-B_gXNofAh"
      }
    },
    {
      "cell_type": "markdown",
      "source": [
        "a) Tính tổng mỗi dòng, tổng mỗi cột.\n",
        "\n",
        "b) Tìm giá trị lớn nhất/nhỏ nhất mỗi dòng/mỗi cột.\n",
        "\n",
        "c) Tìm những số chẵn/lẻ trong ma trận.\n",
        "\n",
        "d) Tính trung bình cộng các cột có chỉ số chẵn (0,2,4)\n",
        "\n",
        "e) Tính tổng các phần tử có hai chỉ số đều là số chẵn.\n",
        "\n",
        "f) Tính khoảng cách giữa giá trị nhỏ nhất và lớn nhất trên mỗi dòng.\n"
      ],
      "metadata": {
        "id": "IBr0JytmowJn"
      }
    },
    {
      "cell_type": "code",
      "source": [
        "A = np.random.randint(1, 21, size=(3,5))\n",
        "print(\"Ma trận A:\")\n",
        "for row in A:\n",
        "    print(\" \".join(map(str, row)))\n",
        "print(\"-\"*20)\n",
        "\n",
        "# a) Tổng mỗi dòng, tổng mỗi cột\n",
        "print(\"a) Tính tổng mỗi dòng, tổng mỗi cột.\")\n",
        "print(\"Tổng mỗi dòng:\", A.sum(axis=1))\n",
        "print(\"Tổng mỗi cột:\", A.sum(axis=0))\n",
        "print(\"-\"*20)\n",
        "\n",
        "# b) Max/min mỗi dòng và mỗi cột\n",
        "print(\"b) Tìm giá trị lớn nhất/nhỏ nhất mỗi dòng/mỗi cột.\")\n",
        "print(\"Max mỗi dòng:\", A.max(axis=1))\n",
        "print(\"Min mỗi dòng:\", A.min(axis=1))\n",
        "print(\"Max mỗi cột:\", A.max(axis=0))\n",
        "print(\"Min mỗi cột:\", A.min(axis=0))\n",
        "print(\"-\"*20)\n",
        "\n",
        "# c) Số chẵn / số lẻ\n",
        "chan = A[A % 2 == 0]\n",
        "le   = A[A % 2 != 0]\n",
        "print(\"c) Tìm số chẵn/lẻ trong ma trận:\")\n",
        "print(\"Số chẵn:\", chan)\n",
        "print(\"Số lẻ:\", le)\n",
        "print(\"-\"*20)\n",
        "\n",
        "# d) Trung bình cộng các cột chỉ số chẵn (0,2,4)\n",
        "mean_cols = A[:, [0,2,4]].mean()\n",
        "print(\"d) Tính trung bình cộng các cột có chỉ số chẵn (0,2,4)\")\n",
        "print(\"Trung bình cộng cột 0,2,4:\", mean_cols)\n",
        "print(\"-\"*20)\n",
        "\n",
        "# e) Tổng phần tử có cả 2 chỉ số chẵn\n",
        "tong_chan_idx = A[::2, ::2].sum()\n",
        "print(\"e) Tính tổng các phần tử có hai chỉ số đều là số chẵn.\")\n",
        "print(\"Tổng phần tử có cả 2 chỉ số chẵn:\", tong_chan_idx)\n",
        "print(\"-\"*20)\n",
        "\n",
        "# f) Khoảng cách giữa min và max trên mỗi dòng\n",
        "diff = A.max(axis=1) - A.min(axis=1)\n",
        "print(\"f) Tính khoảng cách giữa giá trị nhỏ nhất và lớn nhất trên mỗi dòng\")\n",
        "print(\"Khoảng cách min-max trên mỗi dòng:\", diff)"
      ],
      "metadata": {
        "colab": {
          "base_uri": "https://localhost:8080/"
        },
        "id": "LrlYnq1fo2vZ",
        "outputId": "b166cb12-c14c-4d09-b7ff-3c9b10f5509e"
      },
      "execution_count": null,
      "outputs": [
        {
          "output_type": "stream",
          "name": "stdout",
          "text": [
            "Ma trận A:\n",
            "10 10 7 1 18\n",
            "16 1 18 15 4\n",
            "2 16 7 13 9\n",
            "--------------------\n",
            "a) Tính tổng mỗi dòng, tổng mỗi cột.\n",
            "Tổng mỗi dòng: [46 54 47]\n",
            "Tổng mỗi cột: [28 27 32 29 31]\n",
            "--------------------\n",
            "b) Tìm giá trị lớn nhất/nhỏ nhất mỗi dòng/mỗi cột.\n",
            "Max mỗi dòng: [18 18 16]\n",
            "Min mỗi dòng: [1 1 2]\n",
            "Max mỗi cột: [16 16 18 15 18]\n",
            "Min mỗi cột: [2 1 7 1 4]\n",
            "--------------------\n",
            "c) Tìm số chẵn/lẻ trong ma trận:\n",
            "Số chẵn: [10 10 18 16 18  4  2 16]\n",
            "Số lẻ: [ 7  1  1 15  7 13  9]\n",
            "--------------------\n",
            "d) Tính trung bình cộng các cột có chỉ số chẵn (0,2,4)\n",
            "Trung bình cộng cột 0,2,4: 10.11111111111111\n",
            "--------------------\n",
            "e) Tính tổng các phần tử có hai chỉ số đều là số chẵn.\n",
            "Tổng phần tử có cả 2 chỉ số chẵn: 53\n",
            "--------------------\n",
            "f) Tính khoảng cách giữa giá trị nhỏ nhất và lớn nhất trên mỗi dòng\n",
            "Khoảng cách min-max trên mỗi dòng: [17 17 14]\n"
          ]
        }
      ]
    },
    {
      "cell_type": "markdown",
      "source": [
        "### 3. Tạo một ma trận vuông có kích thước 5x5."
      ],
      "metadata": {
        "id": "ArjKCkm5oh6B"
      }
    },
    {
      "cell_type": "markdown",
      "source": [
        "a) Tính tổng các phần tử trên đường chéo chính/phụ"
      ],
      "metadata": {
        "id": "sTGO4NRkqQwm"
      }
    },
    {
      "cell_type": "code",
      "source": [
        "B = np.random.randint(1, 31, size=(5,5))\n",
        "print(\"\\nMa trận B:\")\n",
        "for row in B:\n",
        "    print(\" \".join(map(str, row)))\n",
        "print(\"-\"*20)\n",
        "\n",
        "tong_chinh = np.trace(B)\n",
        "tong_phu   = np.trace(np.fliplr(B))\n",
        "print(\"Tổng chéo chính:\", tong_chinh)\n",
        "print(\"Tổng chéo phụ:\", tong_phu)"
      ],
      "metadata": {
        "colab": {
          "base_uri": "https://localhost:8080/"
        },
        "id": "0mb82tGfqJ3Y",
        "outputId": "82b796fb-ca21-4aa6-9f77-4ee44db29a5d"
      },
      "execution_count": null,
      "outputs": [
        {
          "output_type": "stream",
          "name": "stdout",
          "text": [
            "\n",
            "Ma trận B:\n",
            "8 8 27 23 15\n",
            "8 13 22 23 4\n",
            "13 7 7 29 5\n",
            "23 7 23 13 4\n",
            "25 28 19 20 4\n",
            "--------------------\n",
            "Tổng chéo chính: 45\n",
            "Tổng chéo phụ: 77\n"
          ]
        }
      ]
    },
    {
      "cell_type": "markdown",
      "source": [
        "b) Tìm giá trị lớn nhất/nhỏ nhất trên đường chéo chính/phụ"
      ],
      "metadata": {
        "id": "3XzoomN3qSOw"
      }
    },
    {
      "cell_type": "code",
      "source": [
        "cheo_chinh = np.diag(B)\n",
        "cheo_phu   = np.diag(np.fliplr(B))\n",
        "print(\"\\nChéo chính:\", cheo_chinh)\n",
        "print(\"Chéo phụ:\", cheo_phu)\n",
        "print(\"Max chéo chính:\", cheo_chinh.max(), \"và Min chéo chính:\", cheo_chinh.min())\n",
        "print(\"Max chéo phụ:\", cheo_phu.max(), \"và Min chéo phụ:\", cheo_phu.min())"
      ],
      "metadata": {
        "colab": {
          "base_uri": "https://localhost:8080/"
        },
        "id": "QODyACQ4qvXX",
        "outputId": "c3c92d85-7857-42a9-dede-b13a98d9cc5e"
      },
      "execution_count": null,
      "outputs": [
        {
          "output_type": "stream",
          "name": "stdout",
          "text": [
            "\n",
            "Chéo chính: [ 8 13  7 13  4]\n",
            "Chéo phụ: [15 23  7  7 25]\n",
            "Max chéo chính: 13 và Min chéo chính: 4\n",
            "Max chéo phụ: 25 và Min chéo phụ: 7\n"
          ]
        }
      ]
    }
  ]
}
