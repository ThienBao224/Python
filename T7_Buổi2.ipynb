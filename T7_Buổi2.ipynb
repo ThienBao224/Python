{
  "nbformat": 4,
  "nbformat_minor": 0,
  "metadata": {
    "colab": {
      "provenance": [],
      "mount_file_id": "1iDqyTiTEg_r7pWKB078aBDDvOeL3ZjMr",
      "authorship_tag": "ABX9TyPxLWUHZ8CKtDZKaCZa1POr",
      "include_colab_link": true
    },
    "kernelspec": {
      "name": "python3",
      "display_name": "Python 3"
    },
    "language_info": {
      "name": "python"
    }
  },
  "cells": [
    {
      "cell_type": "markdown",
      "metadata": {
        "id": "view-in-github",
        "colab_type": "text"
      },
      "source": [
        "<a href=\"https://colab.research.google.com/github/ThienBao224/Python/blob/main/T7_Bu%E1%BB%95i2.ipynb\" target=\"_parent\"><img src=\"https://colab.research.google.com/assets/colab-badge.svg\" alt=\"Open In Colab\"/></a>"
      ]
    },
    {
      "cell_type": "markdown",
      "source": [
        "# Lý thuyết"
      ],
      "metadata": {
        "id": "BPTzcwMr11VL"
      }
    },
    {
      "cell_type": "markdown",
      "source": [
        "Đọc xuất file ra excel"
      ],
      "metadata": {
        "id": "s61VggtUvKe1"
      }
    },
    {
      "cell_type": "code",
      "source": [
        "#ghi file excel\n",
        "import pandas as pd\n",
        "\n",
        "# Dữ liệu mẫu\n",
        "data = {\n",
        "    'Tên': ['Nguyễn Văn A', 'Trần Thị B', 'Lê Văn C'],\n",
        "    'Tuổi': [25, 30, 22],\n",
        "    'Địa chỉ': ['Hà Nội', 'Đà Nẵng', 'TP HCM'],\n",
        "     'Chức vụ': ['Giám Đốc', 'Trưởng Phòng', 'Nhân viên'],\n",
        "     'Lương căn bản': [15000000, '12000000', '7000000']\n",
        "}\n",
        "\n",
        "# Tạo DataFrame\n",
        "df = pd.DataFrame(data)\n",
        "\n",
        "# Đường dẫn tới file Excel\n",
        "file_path = '/content/drive/MyDrive/6_Nguyễn Hoàng Thiên Bảo_Tuần2/vidu1.xlsx'  # Thay đổi đường dẫn theo ý muốn\n",
        "\n",
        "# Ghi DataFrame vào file Excel\n",
        "try:\n",
        "    df.to_excel(file_path, index=False, sheet_name='ThongTin')  # Không ghi chỉ số hàng\n",
        "    print(f\"File Excel đã được tạo tại: {file_path}\")\n",
        "except Exception as e:\n",
        "    print(f\"Có lỗi xảy ra khi tạo file: {e}\")"
      ],
      "metadata": {
        "id": "iYAfPHGAvJ_m",
        "colab": {
          "base_uri": "https://localhost:8080/"
        },
        "outputId": "1b1d2163-b30b-40e1-a5c1-bfbf29ead7c6"
      },
      "execution_count": null,
      "outputs": [
        {
          "output_type": "stream",
          "name": "stdout",
          "text": [
            "File Excel đã được tạo tại: /content/drive/MyDrive/6_Nguyễn Hoàng Thiên Bảo_Tuần2/vidu1.xlsx\n"
          ]
        }
      ]
    },
    {
      "cell_type": "markdown",
      "source": [
        "Điều chỉnh kích thước cột trong excel"
      ],
      "metadata": {
        "id": "Oer_nLMi2MWy"
      }
    },
    {
      "cell_type": "code",
      "execution_count": null,
      "metadata": {
        "id": "9c4MSj-QvCE4",
        "colab": {
          "base_uri": "https://localhost:8080/"
        },
        "outputId": "fb735077-16f1-4e51-ecac-c310bf8b4bf0"
      },
      "outputs": [
        {
          "output_type": "stream",
          "name": "stdout",
          "text": [
            "File Excel đã được tạo và kích thước cột đã được chỉnh tại: /content/drive/MyDrive/6_Nguyễn Hoàng Thiên Bảo_Tuần2/vidu1.xlsx\n"
          ]
        }
      ],
      "source": [
        "import pandas as pd\n",
        "from openpyxl import load_workbook\n",
        "\n",
        "# Dữ liệu mẫu\n",
        "data = {\n",
        "    'Tên': ['Nguyễn Văn A', 'Trần Thị B', 'Lê Văn C'],\n",
        "    'Tuổi': [25, 30, 22],\n",
        "    'Địa chỉ': ['Hà Nội', 'Đà Nẵng', 'TP HCM'],\n",
        "     'Chức vụ': ['Giám Đốc', 'Trưởng Phòng', 'Nhân viên'],\n",
        "     'Lương căn bản': [15000000, 12000000, 7000000],\n",
        "     'Hệ số': [3, 2, 1]\n",
        "}\n",
        "\n",
        "# Tạo DataFrame\n",
        "df = pd.DataFrame(data)\n",
        "\n",
        "# Đường dẫn tới file Excel\n",
        "file_path = '/content/drive/MyDrive/6_Nguyễn Hoàng Thiên Bảo_Tuần2/vidu1.xlsx'  # Thay đổi đường dẫn theo ý muốn\n",
        "\n",
        "# Ghi DataFrame vào file Excel\n",
        "try:\n",
        "    df.to_excel(file_path, index=False, sheet_name='ThongTin')  # Không ghi chỉ số hàng\n",
        "\n",
        "    # Mở file Excel vừa tạo để chỉnh sửa\n",
        "    workbook = load_workbook(file_path)\n",
        "    sheet = workbook['ThongTin']\n",
        "\n",
        "    # Chỉnh kích thước cột\n",
        "    sheet.column_dimensions['A'].width = 25  # Kích thước cột A (Tên)\n",
        "    sheet.column_dimensions['B'].width = 10  # Kích thước cột B (Tuổi)\n",
        "    sheet.column_dimensions['C'].width = 20  # Kích thước cột C (Địa chỉ)\n",
        "    sheet.column_dimensions['D'].width = 20\n",
        "    sheet.column_dimensions['E'].width = 20\n",
        "    sheet.column_dimensions['F'].width = 10\n",
        "\n",
        "    # Lưu lại file Excel\n",
        "    workbook.save(file_path)\n",
        "    print(f\"File Excel đã được tạo và kích thước cột đã được chỉnh tại: {file_path}\")\n",
        "\n",
        "except Exception as e:\n",
        "    print(f\"Có lỗi xảy ra khi tạo file: {e}\")"
      ]
    },
    {
      "cell_type": "markdown",
      "source": [
        "Điều chỉnh kích thước cột trong excel"
      ],
      "metadata": {
        "id": "ppTO0Gfo2Rq5"
      }
    },
    {
      "cell_type": "code",
      "source": [
        "import pandas as pd\n",
        "from openpyxl import load_workbook\n",
        "\n",
        "# Dữ liệu mẫu\n",
        "data = {\n",
        "    'Tên': ['Nguyễn Văn A', 'Trần Thị B', 'Lê Văn C'],\n",
        "    'Tuổi': [25, 30, 22],\n",
        "    'Địa chỉ': ['Hà Nội', 'Đà Nẵng', 'TP HCM'],\n",
        "     'Chức vụ': ['Giám Đốc', 'Trưởng Phòng', 'Nhân viên'],\n",
        "     'Lương căn bản': [15000000, 12000000, 7000000],\n",
        "     'Hệ số': [3, 2, 1]\n",
        "}\n",
        "\n",
        "# Tạo DataFrame\n",
        "df = pd.DataFrame(data)\n",
        "\n",
        "# Đường dẫn tới file Excel\n",
        "file_path = '/content/drive/MyDrive/6_Nguyễn Hoàng Thiên Bảo_Tuần2/vidu1.xlsx'  # Thay đổi đường dẫn theo ý muốn\n",
        "\n",
        "# Ghi DataFrame vào file Excel\n",
        "try:\n",
        "    df.to_excel(file_path, index=False, sheet_name='ThongTin')  # Không ghi chỉ số hàng\n",
        "\n",
        "    # Mở file Excel vừa tạo để chỉnh sửa\n",
        "    workbook = load_workbook(file_path)\n",
        "    sheet = workbook['ThongTin']\n",
        "\n",
        "    # Chỉnh kích thước cột\n",
        "    sheet.column_dimensions['A'].width = 25  # Kích thước cột A (Tên)\n",
        "    sheet.column_dimensions['B'].width = 10  # Kích thước cột B (Tuổi)\n",
        "    sheet.column_dimensions['C'].width = 20  # Kích thước cột C (Địa chỉ)\n",
        "    sheet.column_dimensions['D'].width = 20\n",
        "    sheet.column_dimensions['E'].width = 20\n",
        "    sheet.column_dimensions['F'].width = 10\n",
        "\n",
        "    # Lưu lại file Excel\n",
        "    workbook.save(file_path)\n",
        "    print(f\"File Excel đã được tạo và kích thước cột đã được chỉnh tại: {file_path}\")\n",
        "\n",
        "except Exception as e:\n",
        "    print(f\"Có lỗi xảy ra khi tạo file: {e}\")"
      ],
      "metadata": {
        "colab": {
          "base_uri": "https://localhost:8080/"
        },
        "id": "zVhKxPIr2SrY",
        "outputId": "7b57f4d9-7d18-4948-e5b3-d9ca3293f83e"
      },
      "execution_count": null,
      "outputs": [
        {
          "output_type": "stream",
          "name": "stdout",
          "text": [
            "File Excel đã được tạo và kích thước cột đã được chỉnh tại: /content/drive/MyDrive/6_Nguyễn Hoàng Thiên Bảo_Tuần2/vidu1.xlsx\n"
          ]
        }
      ]
    },
    {
      "cell_type": "markdown",
      "source": [
        "Hiển thị dữ liệu file Excel ra màn hình"
      ],
      "metadata": {
        "id": "OyP7m46g2U5Q"
      }
    },
    {
      "cell_type": "code",
      "source": [
        "import pandas as pd\n",
        "\n",
        "# Đọc file Excel vd1.xlsx\n",
        "input_file_path = '/content/drive/MyDrive/6_Nguyễn Hoàng Thiên Bảo_Tuần2/vidu1.xlsx'  # Đường dẫn tới file Excel đầu vào\n",
        "\n",
        "try:\n",
        "    # Đọc dữ liệu từ file Excel\n",
        "    df = pd.read_excel(input_file_path)\n",
        "\n",
        "    #Hiện thị dữ liệu\n",
        "    print(\"Dữ liệu trong file Excel: \")\n",
        "    print(df)\n",
        "\n",
        "except FileNotFoundError:\n",
        "    print(\"File không tồn tại. Vui lòng kiểm tra lại đường dẫn.\")\n",
        "except Exception as e:\n",
        "    print(f\"Có lỗi xảy ra: {e}\")"
      ],
      "metadata": {
        "colab": {
          "base_uri": "https://localhost:8080/"
        },
        "id": "GOpltNl72UeQ",
        "outputId": "bf0bb851-0872-4509-8de8-914876ba3a6c"
      },
      "execution_count": null,
      "outputs": [
        {
          "output_type": "stream",
          "name": "stdout",
          "text": [
            "Dữ liệu trong file Excel: \n",
            "            Tên  Tuổi  Địa chỉ       Chức vụ  Lương căn bản  Hệ số\n",
            "0  Nguyễn Văn A    25   Hà Nội      Giám Đốc       15000000      3\n",
            "1    Trần Thị B    30  Đà Nẵng  Trưởng Phòng       12000000      2\n",
            "2      Lê Văn C    22   TP HCM     Nhân viên        7000000      1\n"
          ]
        }
      ]
    },
    {
      "cell_type": "markdown",
      "source": [
        "Tạo file output Excel tính lương thực lãnh"
      ],
      "metadata": {
        "id": "YXghDZgc2YNK"
      }
    },
    {
      "cell_type": "code",
      "source": [
        "import pandas as pd\n",
        "\n",
        "# Đọc file Excel vd1.xlsx\n",
        "input_file_path = '/content/drive/MyDrive/6_Nguyễn Hoàng Thiên Bảo_Tuần2/vidu1.xlsx'  # Đường dẫn tới file Excel đầu vào\n",
        "output_file_path = '/content/drive/MyDrive/6_Nguyễn Hoàng Thiên Bảo_Tuần2/output.xlsx'  # Đường dẫn tới file Excel đầu ra\n",
        "\n",
        "try:\n",
        "    # Đọc dữ liệu từ file Excel\n",
        "    df = pd.read_excel(input_file_path)\n",
        "\n",
        "    # Tính lương thực lãnh\n",
        "    df['Lương thực lãnh'] = df['Lương căn bản'] * df['Hệ số']\n",
        "\n",
        "    # Xuất dữ liệu ra file Excel mới\n",
        "    df.to_excel(output_file_path, index=False, sheet_name='Kết quả')\n",
        "\n",
        "    print(f\"File đã được xuất tại: {output_file_path}\")\n",
        "\n",
        "except FileNotFoundError:\n",
        "    print(\"File không tồn tại. Vui lòng kiểm tra lại đường dẫn.\")\n",
        "except Exception as e:\n",
        "    print(f\"Có lỗi xảy ra: {e}\")"
      ],
      "metadata": {
        "colab": {
          "base_uri": "https://localhost:8080/"
        },
        "id": "qvxVyggy2ZFY",
        "outputId": "3bc1246a-0c47-4a05-89fa-d2f69954cf49"
      },
      "execution_count": null,
      "outputs": [
        {
          "output_type": "stream",
          "name": "stdout",
          "text": [
            "File đã được xuất tại: /content/drive/MyDrive/6_Nguyễn Hoàng Thiên Bảo_Tuần2/output.xlsx\n"
          ]
        }
      ]
    },
    {
      "cell_type": "markdown",
      "source": [
        "# Bài thực hành"
      ],
      "metadata": {
        "id": "RlmvezaD14ux"
      }
    },
    {
      "cell_type": "markdown",
      "source": [
        "Bài 1: Viết chương trình Python tạo file excel có tên là baitap1.xlsx"
      ],
      "metadata": {
        "id": "4NEtzZDr2b8R"
      }
    },
    {
      "cell_type": "code",
      "source": [
        "import pandas as pd\n",
        "\n",
        "\n",
        "file_path = '/content/drive/MyDrive/6_Nguyễn Hoàng Thiên Bảo_Tuần2/baitap1.xlsx'\n",
        "\n",
        "data = {\n",
        "    'STT': [1, 2, 3, 4, 5, 6, 7, 8, 9, 10, 11, 12, 13, 14, 15, 16, 17, 18],\n",
        "    'Họ Tên Học Sinh': ['A', 'B', 'C', 'D', 'E', 'F', 'G', 'H',  'I', 'J', 'J', 'K', 'L', 'M', 'N', 'S', 'I', 'J'],\n",
        "    'Lớp': ['12A5'] * 18,\n",
        "    'Toán': [10, 4, 8, 4, 9, 9, 7, 1, 0, 8, 7, 9, 9, 2, 5, 3, 7, 0],\n",
        "    'Anh':  [2, 3, 5, 1, 1, 8, 3, 10, 3, 7, 1, 4, 9, 1, 7, 3, 1, 3],\n",
        "    'Sinh': [8, 0, 10, 7, 6, 10, 6, 6, 7, 4, 9, 1, 6, 9, 3, 1, 0, 8],\n",
        "    'Sử':   [10, 7, 1, 1, 9, 0, 7, 10, 2, 0, 7, 9, 7, 9, 6, 5, 2, 7],\n",
        "    'Địa':  [10, 10, 6, 3, 10, 3, 4, 8, 8, 1, 7, 3, 8, 0, 2, 5, 4, 2]\n",
        "}\n",
        "\n",
        "df = pd.DataFrame(data)\n",
        "try:\n",
        "    df.to_excel(file_path, index=False, sheet_name='ĐIỂM LỚP 12A5')\n",
        "    workbook = load_workbook(file_path)\n",
        "    sheet = workbook['ĐIỂM LỚP 12A5']\n",
        "    sheet.column_dimensions['B'].width = 20\n",
        "    workbook.save(file_path)\n",
        "    print(f\"File Excel đã được tạo tại: {file_path}\")\n",
        "except Exception as e:\n",
        "    print(f\"Có lỗi xảy ra khi tạo file: {e}\")"
      ],
      "metadata": {
        "colab": {
          "base_uri": "https://localhost:8080/"
        },
        "id": "-UfjachP2c_Y",
        "outputId": "17202c2b-f3ff-4124-ad40-8836f0166f3a"
      },
      "execution_count": null,
      "outputs": [
        {
          "output_type": "stream",
          "name": "stdout",
          "text": [
            "File Excel đã được tạo tại: /content/drive/MyDrive/6_Nguyễn Hoàng Thiên Bảo_Tuần2/baitap1.xlsx\n"
          ]
        }
      ]
    },
    {
      "cell_type": "markdown",
      "source": [
        "Bài 2: Viết chương trình đọc vào file BT2.xlsx tính"
      ],
      "metadata": {
        "id": "gBDs8Pxu2eaa"
      }
    },
    {
      "cell_type": "code",
      "source": [
        "import pandas as pd\n",
        "input_file_path = '/content/drive/MyDrive/6_Nguyễn Hoàng Thiên Bảo_Tuần2/baitap1.xlsx'\n",
        "output_file_path = '/content/drive/MyDrive/6_Nguyễn Hoàng Thiên Bảo_Tuần2/outputbt.xlsx'\n",
        "\n",
        "\n",
        "try:\n",
        "  df = pd.read_excel(input_file_path)\n",
        "# a) Tính Tổng điểm\n",
        "  df[\"Tổng điểm\"] = df[\"Toán\"] + df[\"Anh\"] + df[\"Sinh\"] + df[\"Sử\"] + df[\"Địa\"]\n",
        "\n",
        "# b) Tính Trung bình\n",
        "  df[\"Trung bình\"] = df[\"Tổng điểm\"] / 5\n",
        "\n",
        "# c) Xếp hạng dựa vào điểm trung bình\n",
        "  df[\"Xếp hạng\"] = df[\"Trung bình\"].rank(ascending=False, method='min').astype(int)\n",
        "\n",
        "# d) Học bổng cho 3 thứ hạng đầu\n",
        "  hoc_bong = []\n",
        "  for x in df[\"Xếp hạng\"]:\n",
        "      if x <= 3:\n",
        "          hoc_bong.append(\"Có\")\n",
        "      else:\n",
        "          hoc_bong.append(\"Không\")\n",
        "  df[\"Học bổng\"] = hoc_bong\n",
        "\n",
        "# e) Xuất file kết quả ra outputbt.xlsx\n",
        "  df.to_excel(output_file_path, index=False, sheet_name='ĐIỂM LỚP 12A5')\n",
        "  print(f\"File đã được xuất tại: {output_file_path}\")\n",
        "\n",
        "except FileNotFoundError:\n",
        "    print(\"File không tồn tại. Vui lòng kiểm tra lại đường dẫn.\")\n",
        "except Exception as e:\n",
        "    print(f\"Có lỗi xảy ra: {e}\")\n"
      ],
      "metadata": {
        "colab": {
          "base_uri": "https://localhost:8080/"
        },
        "id": "FKw8YrBZ2f9B",
        "outputId": "371f1fef-01fa-4d44-89bd-11890e7351d3"
      },
      "execution_count": null,
      "outputs": [
        {
          "output_type": "stream",
          "name": "stdout",
          "text": [
            "File đã được xuất tại: /content/drive/MyDrive/6_Nguyễn Hoàng Thiên Bảo_Tuần2/outputbt.xlsx\n"
          ]
        }
      ]
    },
    {
      "cell_type": "markdown",
      "source": [
        "Vẽ biểu đồ"
      ],
      "metadata": {
        "id": "fEewX9lZ2iES"
      }
    },
    {
      "cell_type": "code",
      "source": [
        "import pandas as pd  # Nhập thư viện pandas để xử lý dữ liệu\n",
        "from openpyxl import Workbook  # Nhập Workbook từ openpyxl để làm việc với Excel\n",
        "from openpyxl.chart import PieChart, Reference  # Nhập PieChart và Reference để tạo biểu đồ tròn\n",
        "from openpyxl.utils.dataframe import dataframe_to_rows  # Nhập hàm để chuyển đổi DataFrame thành hàng cho Excel\n",
        "\n",
        "# Đường dẫn tới file Excel đầu vào và đầu ra\n",
        "input_file_path = '/content/drive/MyDrive/6_Nguyễn Hoàng Thiên Bảo_Tuần2/baitap1.xlsx'\n",
        "output_file_path = '/content/drive/MyDrive/6_Nguyễn Hoàng Thiên Bảo_Tuần2/outputbt1.xlsx'\n",
        "\n",
        "try:\n",
        "    # Đọc file Excel vào DataFrame\n",
        "    df = pd.read_excel(input_file_path, sheet_name='ĐIỂM LỚP 12A5')\n",
        "\n",
        "    # Tính tổng điểm cho mỗi học sinh bằng cách cộng điểm các môn học\n",
        "    df['Tổng điểm'] = df[['Toán', 'Anh', 'Sinh', 'Sử', 'Địa']].sum(axis=1)\n",
        "\n",
        "    # Tính điểm trung bình bằng cách chia tổng điểm cho số môn học\n",
        "    df['Điểm trung bình'] = df['Tổng điểm'] / 5\n",
        "\n",
        "    # Xếp hạng học sinh dựa vào điểm trung bình, xếp hạng cao nhất là 1\n",
        "    df['Xếp hạng'] = df['Điểm trung bình'].rank(ascending=False, method='min')\n",
        "\n",
        "    # Cấp học bổng cho 3 học sinh có xếp hạng cao nhất\n",
        "    df['Học bổng'] = df['Xếp hạng'].apply(lambda x: 'Có' if x <= 3 else 'Không')\n",
        "\n",
        "    # Tạo một workbook mới\n",
        "    wb = Workbook()\n",
        "    ws = wb.active  # Chọn sheet hoạt động đầu tiên\n",
        "    ws.title = 'Kết quả'  # Đặt tên cho sheet\n",
        "\n",
        "    # Ghi dữ liệu từ DataFrame vào sheet Excel\n",
        "    for r in dataframe_to_rows(df, index=False, header=True):\n",
        "        ws.append(r)  # Thêm từng hàng dữ liệu vào sheet\n",
        "\n",
        "    # Tạo một biểu đồ tròn\n",
        "    chart = PieChart()  # Tạo một biểu đồ tròn\n",
        "    chart.title = \"Tỉ Lệ Điểm Trung Bình\"  # Tiêu đề biểu đồ\n",
        "\n",
        "    # Thêm dữ liệu cho biểu đồ từ cột 'Điểm trung bình'\n",
        "    data = Reference(ws, min_col=len(df.columns)-1, min_row=1, max_row=len(df)+1)  # Cột 'Điểm trung bình'\n",
        "    categories = Reference(ws, min_col=2, min_row=2, max_row=len(df)+1)  # Cột 'Họ Tên Học Sinh'\n",
        "\n",
        "    # Gắn dữ liệu và danh mục cho biểu đồ\n",
        "    chart.add_data(data, titles_from_data=True)\n",
        "    chart.set_categories(categories)\n",
        "\n",
        "    # Thêm biểu đồ vào sheet tại vị trí C21\n",
        "    ws.add_chart(chart, \"C21\")\n",
        "\n",
        "    # Lưu workbook vào file Excel mới\n",
        "    wb.save(output_file_path)\n",
        "\n",
        "    # In thông báo khi quá trình hoàn thành\n",
        "    print(f\"File tổng thể đã được xuất tại: {output_file_path}\")\n",
        "\n",
        "except FileNotFoundError:\n",
        "    # Bắt lỗi nếu file không tồn tại\n",
        "    print(\"File không tồn tại. Vui lòng kiểm tra lại đường dẫn.\")\n",
        "except Exception as e:\n",
        "    # Bắt lỗi chung và in ra thông báo\n",
        "    print(f\"Có lỗi xảy ra: {e}\")"
      ],
      "metadata": {
        "colab": {
          "base_uri": "https://localhost:8080/"
        },
        "id": "ptxQAZdy2jOh",
        "outputId": "5acafe19-d781-4084-cc5d-51e0a30eb60f"
      },
      "execution_count": null,
      "outputs": [
        {
          "output_type": "stream",
          "name": "stdout",
          "text": [
            "File tổng thể đã được xuất tại: /content/drive/MyDrive/6_Nguyễn Hoàng Thiên Bảo_Tuần2/outputbt1.xlsx\n"
          ]
        }
      ]
    }
  ]
}