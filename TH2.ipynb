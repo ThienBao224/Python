{
  "nbformat": 4,
  "nbformat_minor": 0,
  "metadata": {
    "colab": {
      "provenance": [],
      "authorship_tag": "ABX9TyPZhZpOk9ONQ6hKIxf3wmAo",
      "include_colab_link": true
    },
    "kernelspec": {
      "name": "python3",
      "display_name": "Python 3"
    },
    "language_info": {
      "name": "python"
    }
  },
  "cells": [
    {
      "cell_type": "markdown",
      "metadata": {
        "id": "view-in-github",
        "colab_type": "text"
      },
      "source": [
        "<a href=\"https://colab.research.google.com/github/ThienBao224/Python/blob/main/TH2.ipynb\" target=\"_parent\"><img src=\"https://colab.research.google.com/assets/colab-badge.svg\" alt=\"Open In Colab\"/></a>"
      ]
    },
    {
      "cell_type": "markdown",
      "source": [
        "# Homework 2"
      ],
      "metadata": {
        "id": "DHdlRCade35-"
      }
    },
    {
      "cell_type": "markdown",
      "source": [
        "## A."
      ],
      "metadata": {
        "id": "P5OrKQdze5V1"
      }
    },
    {
      "cell_type": "markdown",
      "source": [
        "### 1. Cho x = 8 và y = 2. Cho biết kết quả các lệnh sau:"
      ],
      "metadata": {
        "id": "oFWCdOIte-Wr"
      }
    },
    {
      "cell_type": "markdown",
      "source": [
        "a. x + y * 3\n",
        "\n",
        "b. (x + y) * 3\n",
        "\n",
        "c. x ** y\n",
        "\n",
        "d. x % y\n",
        "\n",
        "e. x / 12.0\n",
        "\n",
        "f. x // 6\n"
      ],
      "metadata": {
        "id": "LT7YchuJfJ1T"
      }
    },
    {
      "cell_type": "code",
      "execution_count": null,
      "metadata": {
        "colab": {
          "base_uri": "https://localhost:8080/"
        },
        "id": "5W5DFm39eWMa",
        "outputId": "1d993e27-77cf-427a-c3bd-459708fb30e7"
      },
      "outputs": [
        {
          "output_type": "stream",
          "name": "stdout",
          "text": [
            "1a: 14\n",
            "1b: 30\n",
            "1c: 64\n",
            "1d: 0\n",
            "1e: 0.6666666666666666\n",
            "1f: 1\n"
          ]
        }
      ],
      "source": [
        "x, y = 8, 2\n",
        "#a\n",
        "print(\"1a:\", x + y * 3)\n",
        "\n",
        "#b\n",
        "print(\"1b:\", (x + y) * 3)\n",
        "\n",
        "#c\n",
        "print(\"1c:\", x ** y)\n",
        "\n",
        "#d\n",
        "print(\"1d:\", x % y)\n",
        "\n",
        "#e\n",
        "print(\"1e:\", x / 12.0)\n",
        "\n",
        "#f\n",
        "print(\"1f:\", x // 6)"
      ]
    },
    {
      "cell_type": "markdown",
      "source": [
        "2. Cho x = 54.66. Cho biết kết quả các câu lệnh sau:"
      ],
      "metadata": {
        "id": "Tj7c_0trfA8N"
      }
    },
    {
      "cell_type": "markdown",
      "source": [
        "a. round(x)\n",
        "\n",
        "b. int(x)\n"
      ],
      "metadata": {
        "id": "2BgnoRJHfh9y"
      }
    },
    {
      "cell_type": "code",
      "source": [
        "x = 54.66\n",
        "#a\n",
        "print(\"2a:\", round(x))\n",
        "\n",
        "#b\n",
        "print(\"2b:\", int(x))"
      ],
      "metadata": {
        "colab": {
          "base_uri": "https://localhost:8080/"
        },
        "id": "BC7Tw3Zeff0e",
        "outputId": "02bdd1b5-f90a-4e9e-8f7a-910592de0484"
      },
      "execution_count": null,
      "outputs": [
        {
          "output_type": "stream",
          "name": "stdout",
          "text": [
            "2a: 55\n",
            "2b: 54\n"
          ]
        }
      ]
    },
    {
      "cell_type": "markdown",
      "source": [
        "## B."
      ],
      "metadata": {
        "id": "DRkC6P52e7p7"
      }
    },
    {
      "cell_type": "code",
      "source": [
        "#import thư viện\n",
        "import math"
      ],
      "metadata": {
        "id": "1i-onu9Df3Pr"
      },
      "execution_count": null,
      "outputs": []
    },
    {
      "cell_type": "markdown",
      "source": [
        "### 1. Viết chương trình nhập vào một số nguyên n. Kiểm tra xem số đó có phải là số nguyên tố, số đối xứng, số hoàn chỉnh, số chính phương hay không?"
      ],
      "metadata": {
        "id": "Mus5C_dufnnM"
      }
    },
    {
      "cell_type": "code",
      "source": [
        "def ngto(n):\n",
        "    if n < 2: return False\n",
        "    for i in range(2, int(math.sqrt(n)) + 1):\n",
        "        if n % i == 0: return False\n",
        "    return True\n",
        "\n",
        "def doixung(n):\n",
        "    return str(n) == str(n)[::-1]\n",
        "\n",
        "def hoanchinh(n):\n",
        "    return sum(i for i in range(1, n) if n % i == 0) == n\n",
        "\n",
        "def chinhphuong(n):\n",
        "    return int(math.sqrt(n))**2 == n\n",
        "\n",
        "n = int(input(\"Nhập số nguyên n: \"))\n",
        "print(\"Số nguyên tố:\", ngto(n))\n",
        "print(\"Số đối xứng:\", doixung(n))\n",
        "print(\"Số hoàn chỉnh:\", hoanchinh(n))\n",
        "print(\"Số chính phương:\", chinhphuong(n))\n"
      ],
      "metadata": {
        "colab": {
          "base_uri": "https://localhost:8080/"
        },
        "id": "PvyTfknhfu66",
        "outputId": "7378a14f-9c41-4351-916c-b8510a56d558"
      },
      "execution_count": null,
      "outputs": [
        {
          "output_type": "stream",
          "name": "stdout",
          "text": [
            "Nhập số nguyên n: 3\n",
            "Số nguyên tố: True\n",
            "Số đối xứng: True\n",
            "Số hoàn chỉnh: False\n",
            "Số chính phương: False\n"
          ]
        }
      ]
    },
    {
      "cell_type": "markdown",
      "source": [
        "### 2. Viết chương trình nhập vào hai số M, N. In ra tất cả các số nguyên tố, số đối xứng, số hoàn chỉnh, số chính phương trong khoảng [M,N] (nếu có)"
      ],
      "metadata": {
        "id": "MDFTANysfqk0"
      }
    },
    {
      "cell_type": "code",
      "source": [
        "M = int(input(\"Nhập M: \"))\n",
        "N = int(input(\"Nhập N: \"))\n",
        "while M >= N:\n",
        "    print(\"3M phải nhỏ hơn N. Vui lòng nhập lại!\")\n",
        "    M = int(input(\"Nhập M: \"))\n",
        "    N = int(input(\"Nhập N: \"))\n",
        "\n",
        "for num in range(M, N+1):\n",
        "    if ngto(num): print(num, \"là số nguyên tố\")\n",
        "    if doixung(num): print(num, \"là số đối xứng\")\n",
        "    if hoanchinh(num): print(num, \"là số hoàn chỉnh\")\n",
        "    if chinhphuong(num): print(num, \"là số chính phương\")"
      ],
      "metadata": {
        "colab": {
          "base_uri": "https://localhost:8080/"
        },
        "id": "4s5tx0KdgRQz",
        "outputId": "7a750ba2-d172-4507-a426-06cba4c0dcb8"
      },
      "execution_count": null,
      "outputs": [
        {
          "output_type": "stream",
          "name": "stdout",
          "text": [
            "Nhập M: 2\n",
            "Nhập N: 1\n",
            "3M phải nhỏ hơn N. Vui lòng nhập lại!\n",
            "Nhập M: 3\n",
            "Nhập N: 8\n",
            "3 là số nguyên tố\n",
            "3 là số đối xứng\n",
            "4 là số đối xứng\n",
            "4 là số chính phương\n",
            "5 là số nguyên tố\n",
            "5 là số đối xứng\n",
            "6 là số đối xứng\n",
            "6 là số hoàn chỉnh\n",
            "7 là số nguyên tố\n",
            "7 là số đối xứng\n",
            "8 là số đối xứng\n"
          ]
        }
      ]
    },
    {
      "cell_type": "markdown",
      "source": [
        "### 3. Tìm ước chung lớn nhất và bội số chung nhỏ nhất của hai số a và b"
      ],
      "metadata": {
        "id": "wtfnNdcVhCCh"
      }
    },
    {
      "cell_type": "markdown",
      "source": [
        "a. không dùng đệ quy"
      ],
      "metadata": {
        "id": "lKQ45CoxhGsM"
      }
    },
    {
      "cell_type": "code",
      "source": [
        "def gcd(a, b):\n",
        "    while b != 0:\n",
        "        a, b = b, a % b\n",
        "    return a\n",
        "\n",
        "def lcm(a, b):\n",
        "    return a * b // gcd(a, b)\n",
        "\n",
        "a = int(input(\"Nhập a: \"))\n",
        "b = int(input(\"Nhập b: \"))\n",
        "print(\"UCLN:\", gcd(a, b))\n",
        "print(\"BCNN:\", lcm(a, b))"
      ],
      "metadata": {
        "colab": {
          "base_uri": "https://localhost:8080/"
        },
        "id": "C5Is3KB-hR_T",
        "outputId": "19bd156a-0d8f-4688-cd3c-46c94728ddbc"
      },
      "execution_count": null,
      "outputs": [
        {
          "output_type": "stream",
          "name": "stdout",
          "text": [
            "Nhập a: 2\n",
            "Nhập b: 9\n",
            "UCLN: 1\n",
            "BCNN: 18\n"
          ]
        }
      ]
    },
    {
      "cell_type": "markdown",
      "source": [
        "b. dùng đệ quy"
      ],
      "metadata": {
        "id": "XOJO7FUYhFgT"
      }
    },
    {
      "cell_type": "code",
      "source": [
        "def gcd_dq(a, b):\n",
        "    return a if b == 0 else gcd_dq(b, a % b)\n",
        "\n",
        "def lcm_dq(a, b):\n",
        "    return a * b // gcd_dq(a, b)\n",
        "\n",
        "print(\"UCLN:\", gcd_dq(a, b))\n",
        "print(\"BCNN:\", lcm_dq(a, b))\n"
      ],
      "metadata": {
        "colab": {
          "base_uri": "https://localhost:8080/"
        },
        "id": "rgPt8kB5hYep",
        "outputId": "6ca3e5bb-9ccc-4cf6-d956-1b3bdf14aac5"
      },
      "execution_count": null,
      "outputs": [
        {
          "output_type": "stream",
          "name": "stdout",
          "text": [
            "UCLN: 1\n",
            "BCNN: 18\n"
          ]
        }
      ]
    },
    {
      "cell_type": "markdown",
      "source": [
        "### 4. Liệt kê tất cả các số nguyên tố nhỏ hơn N ( N nhập từ bàn phím)"
      ],
      "metadata": {
        "id": "BjVoR-OrhkQa"
      }
    },
    {
      "cell_type": "code",
      "source": [
        "N = int(input(\"Nhập N: \"))\n",
        "for i in range(2, N):\n",
        "    if ngto(i):\n",
        "        print(i, end=\" \")"
      ],
      "metadata": {
        "colab": {
          "base_uri": "https://localhost:8080/"
        },
        "id": "4QDMoOsChpvS",
        "outputId": "93dfed28-395c-4332-e4db-8d6536b6128e"
      },
      "execution_count": null,
      "outputs": [
        {
          "output_type": "stream",
          "name": "stdout",
          "text": [
            "Nhập N: 20\n",
            "2 3 5 7 11 13 17 19 "
          ]
        }
      ]
    },
    {
      "cell_type": "markdown",
      "source": [
        "### 5. In ra màn hình M số nguyên tố đầu tiên"
      ],
      "metadata": {
        "id": "Ex0Utl2Qhvow"
      }
    },
    {
      "cell_type": "code",
      "source": [
        "M = int(input(\"Nhập M: \"))\n",
        "count=0\n",
        "num=2\n",
        "while count < M:\n",
        "    if ngto(num):\n",
        "        print(num, end=\" \")\n",
        "        count += 1\n",
        "    num += 1"
      ],
      "metadata": {
        "colab": {
          "base_uri": "https://localhost:8080/"
        },
        "id": "T6CUit0mhyzS",
        "outputId": "b32aa659-36f0-4610-d7dc-4bcf02fdbcb3"
      },
      "execution_count": null,
      "outputs": [
        {
          "output_type": "stream",
          "name": "stdout",
          "text": [
            "Nhập M: 20\n",
            "2 3 5 7 11 13 17 19 23 29 31 37 41 43 47 53 59 61 67 71 "
          ]
        }
      ]
    },
    {
      "cell_type": "markdown",
      "source": [
        "### 6. Tìm tất cả các số chia hết cho 7 nhưng không phải bội số của 5, nằm trong đoạn [99;999] (tính cả 99 và 999)"
      ],
      "metadata": {
        "id": "FV9cFyEAiDkp"
      }
    },
    {
      "cell_type": "code",
      "source": [
        "for i in range(99, 1000):\n",
        "    if i % 7 == 0 and i % 5 != 0:\n",
        "        print(i, end=\" \")"
      ],
      "metadata": {
        "colab": {
          "base_uri": "https://localhost:8080/"
        },
        "id": "T3FMGITdi7rA",
        "outputId": "dd2713b9-16a4-4ade-e48f-45eb31ef454a"
      },
      "execution_count": null,
      "outputs": [
        {
          "output_type": "stream",
          "name": "stdout",
          "text": [
            "112 119 126 133 147 154 161 168 182 189 196 203 217 224 231 238 252 259 266 273 287 294 301 308 322 329 336 343 357 364 371 378 392 399 406 413 427 434 441 448 462 469 476 483 497 504 511 518 532 539 546 553 567 574 581 588 602 609 616 623 637 644 651 658 672 679 686 693 707 714 721 728 742 749 756 763 777 784 791 798 812 819 826 833 847 854 861 868 882 889 896 903 917 924 931 938 952 959 966 973 987 994 "
          ]
        }
      ]
    },
    {
      "cell_type": "markdown",
      "source": [
        "### 7. Tìm số đầu tiên chia hết cho 9 và chia hết cho 7 nằm trong đoạn [M,N]"
      ],
      "metadata": {
        "id": "8jJMn2ISiaw6"
      }
    },
    {
      "cell_type": "code",
      "source": [
        "M = int(input(\"Nhập M: \"))\n",
        "N = int(input(\"Nhập N: \"))\n",
        "\n",
        "found = False\n",
        "while M >= N:\n",
        "    print(\"3M phải nhỏ hơn N. Vui lòng nhập lại!\")\n",
        "    M = int(input(\"Nhập M: \"))\n",
        "    N = int(input(\"Nhập N: \"))\n",
        "\n",
        "for i in range(M, N+1):\n",
        "    if i % 63 == 0:\n",
        "        print(\"Số đầu tiên chia hết cho 7 và 9 là:\", i)\n",
        "        found = True\n",
        "        break\n",
        "\n",
        "if not found:\n",
        "    print(\"Không có số nào thỏa trong đoạn.\")\n"
      ],
      "metadata": {
        "colab": {
          "base_uri": "https://localhost:8080/"
        },
        "id": "HxJ21GRijhwH",
        "outputId": "5c641689-5546-4abb-dcbf-fea7dcbaf983"
      },
      "execution_count": null,
      "outputs": [
        {
          "output_type": "stream",
          "name": "stdout",
          "text": [
            "Nhập M: 2\n",
            "Nhập N: 500\n",
            "Số đầu tiên chia hết cho 7 và 9 là: 63\n"
          ]
        }
      ]
    },
    {
      "cell_type": "markdown",
      "source": [
        "### 8. Nhập một số nguyên, đếm xem số đó có bao nhiêu chữ số và tính tổng các chữ số."
      ],
      "metadata": {
        "id": "ijQE3bukiero"
      }
    },
    {
      "cell_type": "code",
      "source": [
        "n = int(input(\"Nhập số nguyên: \"))\n",
        "count, s = 0, 0\n",
        "temp = n\n",
        "while temp > 0:\n",
        "    digit = temp % 10\n",
        "    s += digit\n",
        "    count += 1\n",
        "    temp //= 10\n",
        "print(\"Số chữ số:\", count)\n",
        "print(\"Tổng chữ số:\", s)\n"
      ],
      "metadata": {
        "colab": {
          "base_uri": "https://localhost:8080/"
        },
        "id": "VyRTwzujiuKA",
        "outputId": "d96c6990-e179-4c49-9fdb-e54a04626a9b"
      },
      "execution_count": null,
      "outputs": [
        {
          "output_type": "stream",
          "name": "stdout",
          "text": [
            "Nhập số nguyên: 152\n",
            "Số chữ số: 3\n",
            "Tổng chữ số: 8\n"
          ]
        }
      ]
    },
    {
      "cell_type": "markdown",
      "source": [
        "# 9. Viết chương trình tính lũy thừa nhanh $a^n$ dùng đệ quy và chia để trị (fast power using recursion, divide and conquer)"
      ],
      "metadata": {
        "id": "3j_wh9iligsI"
      }
    },
    {
      "cell_type": "code",
      "source": [
        "def fast_power(a, n):\n",
        "    if n == 0: return 1\n",
        "    half = fast_power(a, n // 2)\n",
        "    if n % 2 == 0:\n",
        "        return half * half\n",
        "    else:\n",
        "        return a * half * half\n",
        "\n",
        "a = int(input(\"Nhập a: \"))\n",
        "b = int(input(\"Nhập b: \"))\n",
        "print(f\"{a}^{b} =\", fast_power(a, b))\n"
      ],
      "metadata": {
        "colab": {
          "base_uri": "https://localhost:8080/"
        },
        "id": "usNvIklsiv6_",
        "outputId": "a3d54b47-d1f7-4bdd-99f6-f8d7c53f2ff0"
      },
      "execution_count": null,
      "outputs": [
        {
          "output_type": "stream",
          "name": "stdout",
          "text": [
            "Nhập a: 2\n",
            "Nhập b: 8\n",
            "2^8 = 256\n"
          ]
        }
      ]
    },
    {
      "cell_type": "markdown",
      "source": [
        "### 10. Viết chương trình nhập vào một số nguyên dương n. In ra từng chữ số trong n. Yêu cầu không dùng các hàm trong xử lý chuỗi"
      ],
      "metadata": {
        "id": "5x-sa86zixHw"
      }
    },
    {
      "cell_type": "code",
      "source": [
        "n = int(input(\"Nhập số nguyên dương n: \"))\n",
        "while n <= 0:\n",
        "    print(\"Vui lòng nhập số nguyên dương!\")\n",
        "    n = int(input(\"Nhập số nguyên dương n: \"))\n",
        "\n",
        "digits = []\n",
        "while n > 0:\n",
        "    digits.append(n % 10)\n",
        "    n //= 10\n",
        "\n",
        "digits.reverse()\n",
        "for d in digits:\n",
        "    print(d, end=\" \")\n"
      ],
      "metadata": {
        "colab": {
          "base_uri": "https://localhost:8080/"
        },
        "id": "x-Lssi9Qi0j4",
        "outputId": "736688af-2fd3-4ba1-89bd-3269fd627d8d"
      },
      "execution_count": null,
      "outputs": [
        {
          "output_type": "stream",
          "name": "stdout",
          "text": [
            "Nhập số nguyên dương n: -5\n",
            "Vui lòng nhập số nguyên dương!\n",
            "Nhập số nguyên dương n: 10\n",
            "1 0 "
          ]
        }
      ]
    }
  ]
}