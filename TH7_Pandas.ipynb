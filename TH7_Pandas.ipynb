{
  "nbformat": 4,
  "nbformat_minor": 0,
  "metadata": {
    "colab": {
      "provenance": [],
      "mount_file_id": "1YgIGP2lWlXSfuCR11VnLF6quyDA2Xk_s",
      "authorship_tag": "ABX9TyNLgEgwjksr15U9h0AA6mNR",
      "include_colab_link": true
    },
    "kernelspec": {
      "name": "python3",
      "display_name": "Python 3"
    },
    "language_info": {
      "name": "python"
    }
  },
  "cells": [
    {
      "cell_type": "markdown",
      "metadata": {
        "id": "view-in-github",
        "colab_type": "text"
      },
      "source": [
        "<a href=\"https://colab.research.google.com/github/ThienBao224/Python/blob/main/TH7_Pandas.ipynb\" target=\"_parent\"><img src=\"https://colab.research.google.com/assets/colab-badge.svg\" alt=\"Open In Colab\"/></a>"
      ]
    },
    {
      "cell_type": "markdown",
      "source": [
        "# Homework 6: Pandas"
      ],
      "metadata": {
        "id": "qtx_nkZsYZkh"
      }
    },
    {
      "cell_type": "markdown",
      "source": [
        "## A. Serie"
      ],
      "metadata": {
        "id": "TD9HUPqfYa8x"
      }
    },
    {
      "cell_type": "markdown",
      "source": [
        "### 1. Viết chương trình thực hiện các yêu cầu sau đây:\n"
      ],
      "metadata": {
        "id": "Cx4K4ZFRYh6K"
      }
    },
    {
      "cell_type": "markdown",
      "source": [
        "a) Tạo ra một Serie có dạng sau:\n",
        "\n",
        "b) In ra giá trị của nhãn ‘Iphone’, ‘Samsung S’\n",
        "\n",
        "c) Tìm giá trị lớn nhất và nhỏ nhất trong Serie. In ra tên nhãn của dòng tương ứng.\n",
        "\n",
        "d) In ra 2 dòng đầu tiên/2 dòng cuối trong Serie"
      ],
      "metadata": {
        "id": "m6JoIBy0Y-mC"
      }
    },
    {
      "cell_type": "code",
      "execution_count": null,
      "metadata": {
        "colab": {
          "base_uri": "https://localhost:8080/"
        },
        "id": "lm6yWFS4XDig",
        "outputId": "dac007c2-bda4-44d1-80e2-dca52ee5ebac"
      },
      "outputs": [
        {
          "output_type": "stream",
          "name": "stdout",
          "text": [
            "a) Tạo ra một Serie có dạng sau:\n",
            "Iphone           10\n",
            "Samsung Note     12\n",
            "Samsung S        30\n",
            "Nokia           100\n",
            "dtype: int64\n",
            "--------------------\n",
            "b) In ra giá trị của nhãn ‘Iphone’, ‘Samsung S’\n",
            "Giá trị của Iphone: 10\n",
            "Giá trị của Samsung S: 30\n",
            "--------------------\n",
            "c) Tìm giá trị lớn nhất và nhỏ nhất, in ra tên nhãn tương ứng\n",
            "Giá trị lớn nhất: 100 \n",
            " Nhãn: Nokia\n",
            "Giá trị nhỏ nhất: 10 \n",
            " Nhãn: Iphone\n",
            "--------------------\n",
            "d) In ra 2 dòng đầu tiên và 2 dòng cuối\n",
            "dòng đầu tiên:\n",
            " Iphone          10\n",
            "Samsung Note    12\n",
            "dtype: int64\n",
            "\n",
            "2 dòng cuối:\n",
            " Samsung S     30\n",
            "Nokia        100\n",
            "dtype: int64\n"
          ]
        }
      ],
      "source": [
        "import pandas as pd\n",
        "\n",
        "# a) Tạo ra một Serie có dạng sau:\n",
        "data = [10, 12, 30, 100]\n",
        "index = ['Iphone', 'Samsung Note', 'Samsung S', 'Nokia']\n",
        "s = pd.Series(data, index=index)\n",
        "print(\"a) Tạo ra một Serie có dạng sau:\")\n",
        "print(s)\n",
        "print(\"-\"*20)\n",
        "# b) In ra giá trị của nhãn ‘Iphone’, ‘Samsung S’\n",
        "print(\"b) In ra giá trị của nhãn ‘Iphone’, ‘Samsung S’\")\n",
        "print(\"Giá trị của Iphone:\", s['Iphone'])\n",
        "print(\"Giá trị của Samsung S:\", s['Samsung S'])\n",
        "print(\"-\"*20)\n",
        "# c) Tìm giá trị lớn nhất và nhỏ nhất, in ra tên nhãn tương ứng\n",
        "max_value = s.max()\n",
        "min_value = s.min()\n",
        "print(\"c) Tìm giá trị lớn nhất và nhỏ nhất, in ra tên nhãn tương ứng\")\n",
        "print(\"Giá trị lớn nhất:\", max_value, \"\\n Nhãn:\", s.idxmax())\n",
        "print(\"Giá trị nhỏ nhất:\", min_value, \"\\n Nhãn:\", s.idxmin())\n",
        "print(\"-\"*20)\n",
        "# d) In ra 2 dòng đầu tiên và 2 dòng cuối\n",
        "print(\"d) In ra 2 dòng đầu tiên và 2 dòng cuối\")\n",
        "print(\"dòng đầu tiên:\\n\", s.head(2))\n",
        "print(\"\\n2 dòng cuối:\\n\", s.tail(2))\n"
      ]
    },
    {
      "cell_type": "markdown",
      "source": [
        "### 2. Viết chương trình thực hiện các yêu cầu sau đây:\n",
        "\n",
        "a) Tạo ra một Serie có dạng sau:\n",
        "\n",
        "b) Sắp xếp Serie theo thứ tự tăng dần/ giảm dần.\n",
        "\n",
        "c) Tạo ra một Serie mới bao gồm các thành phần có giá trị lớn hơn 150.\n",
        "\n",
        "d) Tạo ra một Serie mới trong đó các giá trị của mỗi thành phần tăng thêm 200."
      ],
      "metadata": {
        "id": "U_-8ylahadf_"
      }
    },
    {
      "cell_type": "code",
      "source": [
        "import pandas as pd\n",
        "\n",
        "# a) Tạo ra một Serie\n",
        "data = [200, 160, 800, 100]\n",
        "index = ['Ke toan', 'Moi Truong', 'CNTT', 'Toan']\n",
        "s = pd.Series(data, index=index)\n",
        "print(\"a) Tạo ra một Serie có dạng sau:\")\n",
        "print(s)\n",
        "print(\"-\"*20)\n",
        "\n",
        "# b) Sắp xếp Serie theo thứ tự tăng dần và giảm dần\n",
        "s_sorted_asc = s.sort_values()         #\n",
        "s_sorted_desc = s.sort_values(ascending=False)\n",
        "print(\"b) Sắp xếp Serie theo thứ tự tăng dần và giảm dần\")\n",
        "print(\"Serie sắp xếp tăng dần:\\n\", s_sorted_asc)\n",
        "print(\"\\nSerie sắp xếp giảm dần:\\n\", s_sorted_desc)\n",
        "print(\"-\"*20)\n",
        "\n",
        "# c) Tạo Serie mới gồm các giá trị > 150\n",
        "s_greater_150 = s[s > 150]\n",
        "print(\"c) Tạo Serie mới gồm các giá trị > 150\")\n",
        "print(\"Serie gồm các giá trị > 150:\\n\", s_greater_150)\n",
        "print(\"-\"*20)\n",
        "\n",
        "# d) Tạo Serie mới với các giá trị tăng thêm 200\n",
        "s_plus_200 = s + 200\n",
        "print(\"d) Tạo Serie mới với các giá trị tăng thêm 200\")\n",
        "print(\"Serie mới sau khi tăng thêm 200:\\n\", s_plus_200)"
      ],
      "metadata": {
        "colab": {
          "base_uri": "https://localhost:8080/"
        },
        "id": "ErYoAX0FZYS6",
        "outputId": "3aa2aa5c-96c9-4ff7-8690-d99b296e1410"
      },
      "execution_count": null,
      "outputs": [
        {
          "output_type": "stream",
          "name": "stdout",
          "text": [
            "a) Tạo ra một Serie có dạng sau:\n",
            "Ke toan       200\n",
            "Moi Truong    160\n",
            "CNTT          800\n",
            "Toan          100\n",
            "dtype: int64\n",
            "--------------------\n",
            "b) Sắp xếp Serie theo thứ tự tăng dần và giảm dần\n",
            "Serie sắp xếp tăng dần:\n",
            " Toan          100\n",
            "Moi Truong    160\n",
            "Ke toan       200\n",
            "CNTT          800\n",
            "dtype: int64\n",
            "\n",
            "Serie sắp xếp giảm dần:\n",
            " CNTT          800\n",
            "Ke toan       200\n",
            "Moi Truong    160\n",
            "Toan          100\n",
            "dtype: int64\n",
            "--------------------\n",
            "c) Tạo Serie mới gồm các giá trị > 150\n",
            "Serie gồm các giá trị > 150:\n",
            " Ke toan       200\n",
            "Moi Truong    160\n",
            "CNTT          800\n",
            "dtype: int64\n",
            "--------------------\n",
            "d) Tạo Serie mới với các giá trị tăng thêm 200\n",
            "Serie mới sau khi tăng thêm 200:\n",
            " Ke toan        400\n",
            "Moi Truong     360\n",
            "CNTT          1000\n",
            "Toan           300\n",
            "dtype: int64\n"
          ]
        }
      ]
    },
    {
      "cell_type": "markdown",
      "source": [
        "## B. DataFrame"
      ],
      "metadata": {
        "id": "mKsAGMmfbwRB"
      }
    },
    {
      "cell_type": "markdown",
      "source": [
        "### 1. Cho một bảng dữ liệu có thông tin như sau:"
      ],
      "metadata": {
        "id": "6oDM7BW6bx8O"
      }
    },
    {
      "cell_type": "markdown",
      "source": [
        "a) Viết chương trình tạo ra DataFrame lưu trữ nội dung bảng trên."
      ],
      "metadata": {
        "id": "d_Gu8gLib2bI"
      }
    },
    {
      "cell_type": "code",
      "source": [
        "import pandas as pd\n",
        "data = {\n",
        "    'Animal': ['Tiger', 'Lion', 'Cat', 'Whale'],\n",
        "    'Weight': [258.5, 320.2, 3.3, 41000],\n",
        "    'Average Age': [16, 15, 12, 33]\n",
        "}\n",
        "index = ['Data 1', 'Data 2', 'Data 3', 'Data 4']\n",
        "df = pd.DataFrame(data, index=index)\n",
        "print(\"a) DataFrame:\\n\", df)"
      ],
      "metadata": {
        "colab": {
          "base_uri": "https://localhost:8080/"
        },
        "id": "AvPXOPYmb2K2",
        "outputId": "66b8e879-955d-4f77-8a87-950cfe13374e"
      },
      "execution_count": null,
      "outputs": [
        {
          "output_type": "stream",
          "name": "stdout",
          "text": [
            "a) DataFrame:\n",
            "        Animal   Weight  Average Age\n",
            "Data 1  Tiger    258.5           16\n",
            "Data 2   Lion    320.2           15\n",
            "Data 3    Cat      3.3           12\n",
            "Data 4  Whale  41000.0           33\n"
          ]
        }
      ]
    },
    {
      "cell_type": "markdown",
      "source": [
        "b) In ra tên động vật có trọng lượng trung bình (weight) là lớn nhất/ nhỏ nhất."
      ],
      "metadata": {
        "id": "aUSbhsXufnTq"
      }
    },
    {
      "cell_type": "code",
      "source": [
        "max_weight_animal = df.loc[df['Weight'].idxmax(), 'Animal']\n",
        "min_weight_animal = df.loc[df['Weight'].idxmin(), 'Animal']\n",
        "print(\"b) Động vật có trọng lượng lớn nhất:\", max_weight_animal)\n",
        "print(\"   Động vật có trọng lượng nhỏ nhất:\", min_weight_animal)"
      ],
      "metadata": {
        "colab": {
          "base_uri": "https://localhost:8080/"
        },
        "id": "BlEPDyDyfpui",
        "outputId": "bd28855d-0ce3-4964-8f03-6c36b687747e"
      },
      "execution_count": null,
      "outputs": [
        {
          "output_type": "stream",
          "name": "stdout",
          "text": [
            "b) Động vật có trọng lượng lớn nhất: Whale\n",
            "   Động vật có trọng lượng nhỏ nhất: Cat\n"
          ]
        }
      ]
    },
    {
      "cell_type": "markdown",
      "source": [
        "c) In ra tên động vật có tuổi thọ trung bình (Average Age) là lớn nhất/ nhỏ nhất."
      ],
      "metadata": {
        "id": "2UlcJrX9fp9g"
      }
    },
    {
      "cell_type": "code",
      "source": [
        "max_age_animal = df.loc[df['Average Age'].idxmax(), 'Animal']\n",
        "min_age_animal = df.loc[df['Average Age'].idxmin(), 'Animal']\n",
        "print(\"c) Động vật có tuổi thọ lớn nhất:\", max_age_animal)\n",
        "print(\"   Động vật có tuổi thọ nhỏ nhất:\", min_age_animal)"
      ],
      "metadata": {
        "colab": {
          "base_uri": "https://localhost:8080/"
        },
        "id": "LR_W6kDHfsRZ",
        "outputId": "cea98527-0159-48f6-8dd9-ad1bd2237bfc"
      },
      "execution_count": null,
      "outputs": [
        {
          "output_type": "stream",
          "name": "stdout",
          "text": [
            "c) Động vật có tuổi thọ lớn nhất: Whale\n",
            "   Động vật có tuổi thọ nhỏ nhất: Cat\n"
          ]
        }
      ]
    },
    {
      "cell_type": "markdown",
      "source": [
        "d) Từ DataFrame của câu (a) tạo ra DataFrame chỉ chứa 2 dòng (Data 1 và Data 4) và 2 cột là (Animal và Weight)"
      ],
      "metadata": {
        "id": "-yRrcuR2fsf6"
      }
    },
    {
      "cell_type": "code",
      "source": [
        "df_subset = df.loc[['Data 1', 'Data 4'], ['Animal', 'Weight']]\n",
        "print(\"d) DataFrame con:\\n\", df_subset)"
      ],
      "metadata": {
        "colab": {
          "base_uri": "https://localhost:8080/"
        },
        "id": "F0yiciEPfuoZ",
        "outputId": "7a5d0bd5-fbcf-4014-fdc1-8b0634ea998f"
      },
      "execution_count": null,
      "outputs": [
        {
          "output_type": "stream",
          "name": "stdout",
          "text": [
            "d) DataFrame con:\n",
            "        Animal   Weight\n",
            "Data 1  Tiger    258.5\n",
            "Data 4  Whale  41000.0\n"
          ]
        }
      ]
    },
    {
      "cell_type": "markdown",
      "source": [
        "\n",
        "e) In ra giá trị lớn nhất/ nhỏ nhất của cột dữ liệu Weight"
      ],
      "metadata": {
        "id": "yLTmWu4Mfu5S"
      }
    },
    {
      "cell_type": "code",
      "source": [
        "print(\"e) Giá trị lớn nhất của Weight:\", df['Weight'].max())\n",
        "print(\"   Giá trị nhỏ nhất của Weight:\", df['Weight'].min())"
      ],
      "metadata": {
        "colab": {
          "base_uri": "https://localhost:8080/"
        },
        "id": "NaMLL_wMfwxo",
        "outputId": "c8052ccc-1190-49bf-8049-ff3a9d05622b"
      },
      "execution_count": null,
      "outputs": [
        {
          "output_type": "stream",
          "name": "stdout",
          "text": [
            "e) Giá trị lớn nhất của Weight: 41000.0\n",
            "   Giá trị nhỏ nhất của Weight: 3.3\n"
          ]
        }
      ]
    },
    {
      "cell_type": "markdown",
      "source": [
        "f) Tính giá trị trung bình (mean) của cột dữ liệu Average Age"
      ],
      "metadata": {
        "id": "pPVG3SLsfw_A"
      }
    },
    {
      "cell_type": "code",
      "source": [
        "print(\"f) Giá trị trung bình của Average Age:\", df['Average Age'].mean())"
      ],
      "metadata": {
        "colab": {
          "base_uri": "https://localhost:8080/"
        },
        "id": "T6IGo8f-fyU6",
        "outputId": "5054408b-e487-4577-eb32-190f60871cde"
      },
      "execution_count": null,
      "outputs": [
        {
          "output_type": "stream",
          "name": "stdout",
          "text": [
            "f) Giá trị trung bình của Average Age: 19.0\n"
          ]
        }
      ]
    },
    {
      "cell_type": "markdown",
      "source": [
        "g) In 2 dòng đầu tiên, 2 dòng cuối ra màn hình."
      ],
      "metadata": {
        "id": "8avVrJfNfmEy"
      }
    },
    {
      "cell_type": "code",
      "source": [
        "print(\"g) 2 dòng đầu tiên:\\n\", df.head(2))\n",
        "print(\"\\n   2 dòng cuối:\\n\", df.tail(2))"
      ],
      "metadata": {
        "colab": {
          "base_uri": "https://localhost:8080/"
        },
        "id": "vMYo3hhvflxy",
        "outputId": "ba2ad885-c0d2-4bc6-9985-582d046dca10"
      },
      "execution_count": null,
      "outputs": [
        {
          "output_type": "stream",
          "name": "stdout",
          "text": [
            "g) 2 dòng đầu tiên:\n",
            "        Animal  Weight  Average Age\n",
            "Data 1  Tiger   258.5           16\n",
            "Data 2   Lion   320.2           15\n",
            "\n",
            "   2 dòng cuối:\n",
            "        Animal   Weight  Average Age\n",
            "Data 3    Cat      3.3           12\n",
            "Data 4  Whale  41000.0           33\n"
          ]
        }
      ]
    },
    {
      "cell_type": "markdown",
      "source": [
        "\n",
        "h) In ra màn hình các động vật có tuổi thọ trung bình (Aveage Age) lớn hơn 15."
      ],
      "metadata": {
        "id": "voKcw0xkfj-Y"
      }
    },
    {
      "cell_type": "code",
      "source": [
        "print(\"h) Động vật có tuổi thọ trung bình > 15:\\n\", df[df['Average Age'] > 15])"
      ],
      "metadata": {
        "colab": {
          "base_uri": "https://localhost:8080/"
        },
        "id": "XJOQwN21f2RC",
        "outputId": "4a82b94c-75fa-4e50-ec1e-12e6035a68e6"
      },
      "execution_count": null,
      "outputs": [
        {
          "output_type": "stream",
          "name": "stdout",
          "text": [
            "h) Động vật có tuổi thọ trung bình > 15:\n",
            "        Animal   Weight  Average Age\n",
            "Data 1  Tiger    258.5           16\n",
            "Data 4  Whale  41000.0           33\n"
          ]
        }
      ]
    },
    {
      "cell_type": "markdown",
      "source": [
        "i) In ra màn hình các động vật có trọng lượng trung bình\n",
        "(Weight) nhỏ hơn 300."
      ],
      "metadata": {
        "id": "2S7Lqb8Xfidz"
      }
    },
    {
      "cell_type": "code",
      "source": [
        "print(\"i) Động vật có trọng lượng trung bình < 300:\\n\", df[df['Weight'] < 300])"
      ],
      "metadata": {
        "colab": {
          "base_uri": "https://localhost:8080/"
        },
        "id": "91rLPQnAfiIi",
        "outputId": "56c4d3f2-9a0f-48bb-daee-0d5dbbce020f"
      },
      "execution_count": null,
      "outputs": [
        {
          "output_type": "stream",
          "name": "stdout",
          "text": [
            "i) Động vật có trọng lượng trung bình < 300:\n",
            "        Animal  Weight  Average Age\n",
            "Data 1  Tiger   258.5           16\n",
            "Data 3    Cat     3.3           12\n"
          ]
        }
      ]
    },
    {
      "cell_type": "markdown",
      "source": [
        "### 2. Cho một bảng dữ liệu có thông tin như sau:"
      ],
      "metadata": {
        "id": "Pz6FgYQTd421"
      }
    },
    {
      "cell_type": "markdown",
      "source": [
        "a) Viết chương trình tạo ra DataFrame lưu trữ nội dung bảng trên."
      ],
      "metadata": {
        "id": "Fn6ds2PgfUu6"
      }
    },
    {
      "cell_type": "code",
      "source": [
        "import pandas as pd\n",
        "data = {\n",
        "    'Name': ['Grapefruit', 'Coconut', 'Watermelon', 'Banana', 'Dragon fruit'],\n",
        "    'Origin': ['Long An', 'Ben Tre', 'Long An', 'Ben Tre', 'Long An'],\n",
        "    'Price': [5.5, 10.2, 6.7, 2.5, 7.5]\n",
        "}\n",
        "\n",
        "index = ['Data 1', 'Data 2', 'Data 3', 'Data 4', 'Data 5']\n",
        "df = pd.DataFrame(data, index=index)\n",
        "print(\"a) DataFrame:\\n\", df)"
      ],
      "metadata": {
        "colab": {
          "base_uri": "https://localhost:8080/"
        },
        "id": "T-I_r5Ebd_EE",
        "outputId": "c6e549fc-7225-4a06-c2a3-e6a7891323d1"
      },
      "execution_count": null,
      "outputs": [
        {
          "output_type": "stream",
          "name": "stdout",
          "text": [
            "a) DataFrame:\n",
            "                 Name   Origin  Price\n",
            "Data 1    Grapefruit  Long An    5.5\n",
            "Data 2       Coconut  Ben Tre   10.2\n",
            "Data 3    Watermelon  Long An    6.7\n",
            "Data 4        Banana  Ben Tre    2.5\n",
            "Data 5  Dragon fruit  Long An    7.5\n"
          ]
        }
      ]
    },
    {
      "cell_type": "markdown",
      "source": [
        "b) In ra tên loại trái cây có giá tiền (Price) là lớn nhất/ nhỏ nhất."
      ],
      "metadata": {
        "id": "Vy5I9IUDfJoz"
      }
    },
    {
      "cell_type": "code",
      "source": [
        "max_price_fruit = df.loc[df['Price'].idxmax(), 'Name']\n",
        "min_price_fruit = df.loc[df['Price'].idxmin(), 'Name']\n",
        "print(\"b) Trái cây có giá cao nhất:\", max_price_fruit)\n",
        "print(\"   Trái cây có giá thấp nhất:\", min_price_fruit)"
      ],
      "metadata": {
        "colab": {
          "base_uri": "https://localhost:8080/"
        },
        "id": "_oo4OePUfI0D",
        "outputId": "2865677e-ddea-4934-f73e-b372a286e473"
      },
      "execution_count": null,
      "outputs": [
        {
          "output_type": "stream",
          "name": "stdout",
          "text": [
            "b) Trái cây có giá cao nhất: Coconut\n",
            "   Trái cây có giá thấp nhất: Banana\n"
          ]
        }
      ]
    },
    {
      "cell_type": "markdown",
      "source": [
        "c) Tìm các loại trái cây có xuất xứ tại Ben Tre"
      ],
      "metadata": {
        "id": "JoAJmZr7fE-7"
      }
    },
    {
      "cell_type": "code",
      "source": [
        "print(\"c) Các loại trái cây xuất xứ Ben Tre:\\n\", df[df['Origin'] == 'Ben Tre'])"
      ],
      "metadata": {
        "colab": {
          "base_uri": "https://localhost:8080/"
        },
        "id": "mdIY7XC4fFNS",
        "outputId": "7f10c783-0873-4f5e-dae6-26c4697a1dd8"
      },
      "execution_count": null,
      "outputs": [
        {
          "output_type": "stream",
          "name": "stdout",
          "text": [
            "c) Các loại trái cây xuất xứ Ben Tre:\n",
            "            Name   Origin  Price\n",
            "Data 2  Coconut  Ben Tre   10.2\n",
            "Data 4   Banana  Ben Tre    2.5\n"
          ]
        }
      ]
    },
    {
      "cell_type": "markdown",
      "source": [
        "d) Từ DataFrame của câu (a) tạo ra DataFrame chỉ chứa 2 dòng (Data 2 và Data 5) và 2 cột là (Name và\n",
        "Price)"
      ],
      "metadata": {
        "id": "s6h_jtBPe99s"
      }
    },
    {
      "cell_type": "code",
      "source": [
        "df_subset = df.loc[['Data 2', 'Data 5'], ['Name', 'Price']]\n",
        "print(\"d) DataFrame con:\\n\", df_subset)"
      ],
      "metadata": {
        "colab": {
          "base_uri": "https://localhost:8080/"
        },
        "id": "zvnhXBpWe-w5",
        "outputId": "a3bac604-4ae3-4bf9-9bdc-f0635f1fede2"
      },
      "execution_count": null,
      "outputs": [
        {
          "output_type": "stream",
          "name": "stdout",
          "text": [
            "d) DataFrame con:\n",
            "                 Name  Price\n",
            "Data 2       Coconut   10.2\n",
            "Data 5  Dragon fruit    7.5\n"
          ]
        }
      ]
    },
    {
      "cell_type": "markdown",
      "source": [
        "e) In ra giá trị lớn nhất/ nhỏ nhất/trung bình của cột dữ liệu Price"
      ],
      "metadata": {
        "id": "TFdkN-2le5S8"
      }
    },
    {
      "cell_type": "code",
      "source": [
        "print(\"e) Giá cao nhất:\", df['Price'].max())\n",
        "print(\"   Giá thấp nhất:\", df['Price'].min())\n",
        "print(\"   Giá trung bình:\", df['Price'].mean())"
      ],
      "metadata": {
        "colab": {
          "base_uri": "https://localhost:8080/"
        },
        "id": "FsbfwkY_e7nC",
        "outputId": "cd36dc0e-a52e-41d7-9213-a2d706591bad"
      },
      "execution_count": null,
      "outputs": [
        {
          "output_type": "stream",
          "name": "stdout",
          "text": [
            "e) Giá cao nhất: 10.2\n",
            "   Giá thấp nhất: 2.5\n",
            "   Giá trung bình: 6.4799999999999995\n"
          ]
        }
      ]
    },
    {
      "cell_type": "markdown",
      "source": [
        "f) Tìm loại trái cây có xuất xứ tại Ben Tre và có giá tiền (Price) là cao nhất\n"
      ],
      "metadata": {
        "id": "PwswbljIerrC"
      }
    },
    {
      "cell_type": "code",
      "source": [
        "ben_tre_max = df[df['Origin'] == 'Ben Tre'].loc[df[df['Origin'] == 'Ben Tre']['Price'].idxmax(), 'Name']\n",
        "print(\"f) Trái cây Ben Tre giá cao nhất:\", ben_tre_max)"
      ],
      "metadata": {
        "colab": {
          "base_uri": "https://localhost:8080/"
        },
        "id": "lrimb71DeuUT",
        "outputId": "11c8cb38-902a-4729-e4a3-c7d31d704353"
      },
      "execution_count": null,
      "outputs": [
        {
          "output_type": "stream",
          "name": "stdout",
          "text": [
            "f) Trái cây Ben Tre giá cao nhất: Coconut\n"
          ]
        }
      ]
    },
    {
      "cell_type": "markdown",
      "source": [
        "g) Tìm loại trái cây có xuất xứ tại Long An và có giá tiền (Price) là thấp nhất"
      ],
      "metadata": {
        "id": "pRXziuNfenwM"
      }
    },
    {
      "cell_type": "code",
      "source": [
        "long_an_min = df[df['Origin'] == 'Long An'].loc[df[df['Origin'] == 'Long An']['Price'].idxmin(), 'Name']\n",
        "print(\"g) Trái cây Long An giá thấp nhất:\", long_an_min)"
      ],
      "metadata": {
        "colab": {
          "base_uri": "https://localhost:8080/"
        },
        "id": "MouUsfCUep8K",
        "outputId": "3e8ea890-4f0b-453b-d6f9-79b7f36c4fca"
      },
      "execution_count": null,
      "outputs": [
        {
          "output_type": "stream",
          "name": "stdout",
          "text": [
            "g) Trái cây Long An giá thấp nhất: Grapefruit\n"
          ]
        }
      ]
    },
    {
      "cell_type": "markdown",
      "source": [
        "h) Tính tổng giá tiền (Price) của các loại trái cây có xuất xứ tại Long An"
      ],
      "metadata": {
        "id": "EpErIYRSekmi"
      }
    },
    {
      "cell_type": "code",
      "source": [
        "total_long_an = df[df['Origin'] == 'Long An']['Price'].sum()\n",
        "print(\"h) Tổng giá các trái cây Long An:\", total_long_an)"
      ],
      "metadata": {
        "colab": {
          "base_uri": "https://localhost:8080/"
        },
        "id": "HOlNW-B9emYb",
        "outputId": "35352cef-35a8-4748-bc20-494407bd5b26"
      },
      "execution_count": null,
      "outputs": [
        {
          "output_type": "stream",
          "name": "stdout",
          "text": [
            "h) Tổng giá các trái cây Long An: 19.7\n"
          ]
        }
      ]
    },
    {
      "cell_type": "markdown",
      "source": [
        "i) Tính trung bình giá tiền (Price) của các loại trái cây có xuất xứ tại Ben Tre"
      ],
      "metadata": {
        "id": "ZwUgHRPXejA6"
      }
    },
    {
      "cell_type": "code",
      "source": [
        "avg_ben_tre = df[df['Origin'] == 'Ben Tre']['Price'].mean()\n",
        "print(\"i) Giá trung bình các trái cây Ben Tre:\", avg_ben_tre)"
      ],
      "metadata": {
        "colab": {
          "base_uri": "https://localhost:8080/"
        },
        "id": "--hDEvR2eh7l",
        "outputId": "767b82ae-e793-4b56-99ab-349c1fd2b71a"
      },
      "execution_count": null,
      "outputs": [
        {
          "output_type": "stream",
          "name": "stdout",
          "text": [
            "i) Giá trung bình các trái cây Ben Tre: 6.35\n"
          ]
        }
      ]
    }
  ]
}